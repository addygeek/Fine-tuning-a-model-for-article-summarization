{
 "cells": [
  {
   "cell_type": "markdown",
   "metadata": {
    "id": "c4-kxwz23nzr"
   },
   "source": [
    "# Supervised Fine Tuning (STF) with Gemini for Article Summarization\n",
    "\n"
   ]
  },
  {
   "cell_type": "markdown",
   "metadata": {
    "id": "sfQYl84Cu_xL"
   },
   "source": [
    "## Wikilingua Dataset"
   ]
  },
  {
   "cell_type": "markdown",
   "metadata": {
    "id": "SxAXgV2FvBPz"
   },
   "source": [
    "The dataset includes article and summary pairs from WikiHow. It consists of  article-summary pairs in multiple languages. Refer to the following [github repository](https://github.com/esdurmus/Wikilingua) for more details.\n",
    "\n",
    "For this notebook, we have picked `english` language dataset."
   ]
  },
  {
   "cell_type": "markdown",
   "metadata": {
    "id": "KTHBNpb-BBdc"
   },
   "source": [
    "### Dataset Citation\n",
    "\n",
    "```\n",
    "@inproceedings{ladhak-wiki-2020,\n",
    "    title={WikiLingua: A New Benchmark Dataset for Multilingual Abstractive Summarization},\n",
    "    author={Faisal Ladhak, Esin Durmus, Claire Cardie and Kathleen McKeown},\n",
    "    booktitle={Findings of EMNLP, 2020},\n",
    "    year={2020}\n",
    "}\n",
    "```"
   ]
  },
  {
   "cell_type": "markdown",
   "metadata": {
    "id": "oo2rh4cC2e1r"
   },
   "source": [
    "### Install Gen AI SDK and other required packages"
   ]
  },
  {
   "cell_type": "code",
   "execution_count": 1,
   "metadata": {
    "id": "l_ok3vdw2cyf",
    "tags": []
   },
   "outputs": [
    {
     "name": "stdout",
     "output_type": "stream",
     "text": [
      "\u001b[33m  DEPRECATION: Building 'rouge_score' using the legacy setup.py bdist_wheel mechanism, which will be removed in a future version. pip 25.3 will enforce this behaviour change. A possible replacement is to use the standardized build interface by setting the `--use-pep517` option, (possibly combined with `--no-build-isolation`), or adding a `pyproject.toml` file to the source tree of 'rouge_score'. Discussion can be found at https://github.com/pypa/pip/issues/6334\u001b[0m\u001b[33m\n",
      "\u001b[0m\u001b[33m  WARNING: The script plotly_get_chrome is installed in '/home/jupyter/.local/bin' which is not on PATH.\n",
      "  Consider adding this directory to PATH or, if you prefer to suppress this warning, use --no-warn-script-location.\u001b[0m\u001b[33m\n",
      "\u001b[0m\u001b[33m  WARNING: The script nltk is installed in '/home/jupyter/.local/bin' which is not on PATH.\n",
      "  Consider adding this directory to PATH or, if you prefer to suppress this warning, use --no-warn-script-location.\u001b[0m\u001b[33m\n",
      "\u001b[0m\u001b[33m  WARNING: The script tb-gcp-uploader is installed in '/home/jupyter/.local/bin' which is not on PATH.\n",
      "  Consider adding this directory to PATH or, if you prefer to suppress this warning, use --no-warn-script-location.\u001b[0m\u001b[33m\n",
      "\u001b[0mNote: you may need to restart the kernel to use updated packages.\n"
     ]
    }
   ],
   "source": [
    "%pip install --upgrade --user --quiet google-genai google-cloud-aiplatform rouge_score plotly jsonlines"
   ]
  },
  {
   "cell_type": "markdown",
   "metadata": {
    "id": "6in46hzz3At9"
   },
   "source": [
    "### Restart runtime\n",
    "\n",
    "To use the newly installed packages, you must restart the runtime.\n"
   ]
  },
  {
   "cell_type": "code",
   "execution_count": 27,
   "metadata": {
    "id": "haJlKcSY3EsE",
    "tags": []
   },
   "outputs": [
    {
     "data": {
      "text/plain": [
       "{'status': 'ok', 'restart': True}"
      ]
     },
     "execution_count": 27,
     "metadata": {},
     "output_type": "execute_result"
    }
   ],
   "source": [
    "# Restart kernel after installs so that your environment can access the new packages\n",
    "import IPython\n",
    "\n",
    "app = IPython.Application.instance()\n",
    "app.kernel.do_shutdown(True)"
   ]
  },
  {
   "cell_type": "code",
   "execution_count": null,
   "metadata": {
    "id": "86VNaqlgD9rK",
    "tags": []
   },
   "outputs": [],
   "source": [
    "import sys\n",
    "\n",
    "if \"google.colab\" in sys.modules:\n",
    "    from google.colab import auth\n",
    "\n",
    "    auth.authenticate_user()"
   ]
  },
  {
   "cell_type": "markdown",
   "metadata": {
    "id": "k8CI-TcqD06L"
   },
   "source": [
    "## Import libraries"
   ]
  },
  {
   "cell_type": "code",
   "execution_count": 1,
   "metadata": {
    "id": "rerpHL_eEG8D",
    "tags": []
   },
   "outputs": [],
   "source": [
    "import time\n",
    "\n",
    "from google import genai\n",
    "\n",
    "# For extracting vertex experiment details.\n",
    "from google.cloud import aiplatform\n",
    "from google.cloud.aiplatform.metadata import context\n",
    "from google.cloud.aiplatform.metadata import utils as metadata_utils\n",
    "from google.genai import types\n",
    "\n",
    "# For data handling.\n",
    "import jsonlines\n",
    "import pandas as pd\n",
    "\n",
    "# For visualization.\n",
    "import plotly.graph_objects as go\n",
    "from plotly.subplots import make_subplots\n",
    "\n",
    "# For evaluation metric computation.\n",
    "from rouge_score import rouge_scorer\n",
    "from tqdm import tqdm\n",
    "\n",
    "# For fine tuning Gemini model.\n",
    "import vertexai"
   ]
  },
  {
   "cell_type": "markdown",
   "metadata": {
    "id": "FBY9nK3qEJLk"
   },
   "source": [
    "## Step2: Set Google Cloud project information and initialize Vertex AI and Gen AI SDK\n",
    "\n"
   ]
  },
  {
   "cell_type": "code",
   "execution_count": null,
   "metadata": {
    "id": "VpzmI1K61Tn2",
    "tags": []
   },
   "outputs": [],
   "source": [
    "PROJECT_ID = \"ofcourse_cant_reveal_lol_did_you_to _here_thanks:)\"  \n",
    "REGION = \"us-central1\" "
   ]
  },
  {
   "cell_type": "code",
   "execution_count": 3,
   "metadata": {
    "id": "7MZmIZvlQUhy",
    "tags": []
   },
   "outputs": [],
   "source": [
    "vertexai.init(project=PROJECT_ID, location=REGION)\n",
    "\n",
    "client = genai.Client(vertexai=True, project=PROJECT_ID, location=REGION)"
   ]
  },
  {
   "cell_type": "markdown",
   "metadata": {
    "id": "JUEloBlsCPFr"
   },
   "source": [
    "## Step3: Create a dataset in the required format\n",
    "\n",
    "The dataset used to tune a foundation model needs to include examples that align with the task that you want the model to perform. Structure your training dataset in a text-to-text format. Each record, or row, in the dataset contains the input text (also referred to as the prompt) which is paired with its expected output from the model. Supervised tuning uses the dataset to teach the model to mimic a behavior, or task, you need by giving it hundreds of examples that illustrate that behavior.\n",
    "\n",
    "Your dataset size depends on the task, and follows the recommendation mentioned in the `Overview` section. The more examples you provide in your dataset, the better the results.\n",
    "\n",
    "### Dataset format\n",
    "\n",
    "Training data should be structured within a JSONL file located at a Google Cloud Storage (GCS) URI. Each line (or row) of the JSONL file must adhere to a specific schema: It should contain a `contents` array, with objects inside defining a `role` (either \"user\" for user input or \"model\" for model output) and `parts`, containing the input data. For example, a valid data row would look like this:\n",
    "\n",
    "\n",
    "```\n",
    "{\n",
    "   \"contents\":[\n",
    "      {\n",
    "         \"role\":\"user\",  # This indicate input content\n",
    "         \"parts\":[\n",
    "            {\n",
    "               \"text\":\"How are you?\"\n",
    "            }\n",
    "         ]\n",
    "      },\n",
    "      {\n",
    "         \"role\":\"model\", # This indicate target content\n",
    "         \"parts\":[ # text only\n",
    "            {\n",
    "               \"text\":\"I am good, thank you!\"\n",
    "            }\n",
    "         ]\n",
    "      }\n",
    "      #  ... repeat \"user\", \"model\" for multi turns.\n",
    "   ]\n",
    "}\n",
    "```\n",
    "\n",
    "\n",
    "Refer to the public [documentation](https://cloud.google.com/vertex-ai/generative-ai/docs/models/gemini-supervised-tuning-prepare#about-datasets) for more details."
   ]
  },
  {
   "cell_type": "markdown",
   "metadata": {
    "id": "TglfI3tQr2oZ"
   },
   "source": [
    "To run a tuning job, you need to upload one or more datasets to a Cloud Storage bucket. You can either create a new Cloud Storage bucket or use an existing one to store dataset files. The region of the bucket doesn't matter, but we recommend that you use a bucket that's in the same Google Cloud project where you plan to tune your model."
   ]
  },
  {
   "cell_type": "markdown",
   "metadata": {
    "id": "OsNdYgnaITuz"
   },
   "source": [
    "### Step3 [a]: Create a Cloud Storage bucket\n",
    "\n",
    "Create a storage bucket to store intermediate artifacts such as datasets.\n"
   ]
  },
  {
   "cell_type": "code",
   "execution_count": null,
   "metadata": {
    "id": "WveeKANmITK5",
    "tags": []
   },
   "outputs": [],
   "source": [
    "BUCKET_NAME = \"adityaisgoingtofinetune\"\n",
    "BUCKET_URI = f\"gs://{BUCKET_NAME}\""
   ]
  },
  {
   "cell_type": "markdown",
   "metadata": {
    "id": "7YGurtXHJy_y"
   },
   "source": [
    "### Step3 [b]: Upload tuning data to Cloud Storage"
   ]
  },
  {
   "cell_type": "markdown",
   "metadata": {
    "id": "ip8rErN2r3ah"
   },
   "source": [
    "- Data used in this notebook is present in the public Google Cloud Storage(GCS) bucket.\n",
    "- It's in Gemini finetuning dataset format"
   ]
  },
  {
   "cell_type": "code",
   "execution_count": 6,
   "metadata": {
    "id": "aV_GZg_LaNmV",
    "tags": []
   },
   "outputs": [
    {
     "name": "stdout",
     "output_type": "stream",
     "text": [
      "gs://github-repo/generative-ai/gemini/tuning/summarization/wikilingua/\n",
      "gs://github-repo/generative-ai/gemini/tuning/summarization/wikilingua/sft_test_samples.csv\n",
      "gs://github-repo/generative-ai/gemini/tuning/summarization/wikilingua/sft_train_samples.jsonl\n",
      "gs://github-repo/generative-ai/gemini/tuning/summarization/wikilingua/sft_val_samples.jsonl\n"
     ]
    }
   ],
   "source": [
    "!gsutil ls gs://github-repo/generative-ai/gemini/tuning/summarization/wikilingua"
   ]
  },
  {
   "cell_type": "code",
   "execution_count": 7,
   "metadata": {
    "id": "b-EQ4FcExIfp",
    "tags": []
   },
   "outputs": [
    {
     "name": "stdout",
     "output_type": "stream",
     "text": [
      "Copying gs://github-repo/generative-ai/gemini/tuning/summarization/wikilingua/sft_test_samples.csv...\n",
      "Copying gs://github-repo/generative-ai/gemini/tuning/summarization/wikilingua/sft_train_samples.jsonl...\n",
      "Copying gs://github-repo/generative-ai/gemini/tuning/summarization/wikilingua/sft_val_samples.jsonl...\n",
      "/ [3 files][  1.6 MiB/  1.6 MiB]                                                \n",
      "Operation completed over 3 objects/1.6 MiB.                                      \n"
     ]
    }
   ],
   "source": [
    "!gsutil cp gs://github-repo/generative-ai/gemini/tuning/summarization/wikilingua/* ."
   ]
  },
  {
   "cell_type": "markdown",
   "metadata": {
    "id": "6wmBkAUoyzdJ"
   },
   "source": [
    "#### Convert Gemini tuning dataset to Gemini 2.0 tuning dataset format"
   ]
  },
  {
   "cell_type": "code",
   "execution_count": 9,
   "metadata": {
    "id": "7bhtxKbha_wS",
    "tags": []
   },
   "outputs": [],
   "source": [
    "def save_jsonlines(file, instances):\n",
    "    \"\"\"\n",
    "    Saves a list of json instances to a jsonlines file.\n",
    "    \"\"\"\n",
    "    with jsonlines.open(file, mode=\"w\") as writer:\n",
    "        writer.write_all(instances)"
   ]
  },
  {
   "cell_type": "code",
   "execution_count": 10,
   "metadata": {
    "id": "-3xbpRnSyxH9",
    "tags": []
   },
   "outputs": [],
   "source": [
    "def create_tuning_samples(file_path):\n",
    "    \"\"\"\n",
    "    Creates tuning samples from a file.\n",
    "    \"\"\"\n",
    "    with jsonlines.open(file_path) as reader:\n",
    "        instances = []\n",
    "        for obj in reader:\n",
    "            instance = []\n",
    "            for content in obj[\"messages\"]:\n",
    "                instance.append(\n",
    "                    {\"role\": content[\"role\"], \"parts\": [{\"text\": content[\"content\"]}]}\n",
    "                )\n",
    "            instances.append({\"contents\": instance})\n",
    "    return instances"
   ]
  },
  {
   "cell_type": "code",
   "execution_count": 11,
   "metadata": {
    "id": "orHUpTagyw-z",
    "tags": []
   },
   "outputs": [
    {
     "data": {
      "text/plain": [
       "500"
      ]
     },
     "execution_count": 11,
     "metadata": {},
     "output_type": "execute_result"
    }
   ],
   "source": [
    "train_file = \"sft_train_samples.jsonl\"\n",
    "train_instances = create_tuning_samples(train_file)\n",
    "len(train_instances)"
   ]
  },
  {
   "cell_type": "code",
   "execution_count": 13,
   "metadata": {
    "id": "U3m05gAM1mlp",
    "tags": []
   },
   "outputs": [],
   "source": [
    "# save the training instances to jsonl file\n",
    "save_jsonlines(train_file, train_instances)"
   ]
  },
  {
   "cell_type": "code",
   "execution_count": 14,
   "metadata": {
    "id": "xZICW6uU1T3Z",
    "tags": []
   },
   "outputs": [
    {
     "data": {
      "text/plain": [
       "100"
      ]
     },
     "execution_count": 14,
     "metadata": {},
     "output_type": "execute_result"
    }
   ],
   "source": [
    "val_file = \"sft_val_samples.jsonl\"\n",
    "val_instances = create_tuning_samples(val_file)\n",
    "len(val_instances)"
   ]
  },
  {
   "cell_type": "code",
   "execution_count": 15,
   "metadata": {
    "id": "n1s7adZH1CCe",
    "tags": []
   },
   "outputs": [],
   "source": [
    "# save the validation instances to jsonl file\n",
    "save_jsonlines(val_file, val_instances)"
   ]
  },
  {
   "cell_type": "code",
   "execution_count": 16,
   "metadata": {
    "id": "AVL2gfP-J5SL",
    "tags": []
   },
   "outputs": [
    {
     "name": "stdout",
     "output_type": "stream",
     "text": [
      "Copying file://sft_train_samples.jsonl [Content-Type=application/octet-stream]...\n",
      "/ [1 files][  1.2 MiB/  1.2 MiB]                                                \n",
      "Operation completed over 1 objects/1.2 MiB.                                      \n",
      "Copying file://sft_val_samples.jsonl [Content-Type=application/octet-stream]...\n",
      "/ [1 files][231.8 KiB/231.8 KiB]                                                \n",
      "Operation completed over 1 objects/231.8 KiB.                                    \n"
     ]
    }
   ],
   "source": [
    "# Copy the tuning and evaluation data to your bucket.\n",
    "!gsutil cp {train_file} {BUCKET_URI}/train/\n",
    "!gsutil cp {val_file} {BUCKET_URI}/val/"
   ]
  },
  {
   "cell_type": "markdown",
   "metadata": {
    "id": "kV5X6_DsIXPm"
   },
   "source": [
    "### Step3 [c]: Test dataset\n",
    "\n",
    "- It contains document text(`input_text`) and corresponding reference summary(`output_text`), which will be compared with the model generated summary"
   ]
  },
  {
   "cell_type": "code",
   "execution_count": 17,
   "metadata": {
    "id": "wtxPI3GPIckU",
    "tags": []
   },
   "outputs": [
    {
     "data": {
      "text/html": [
       "<div>\n",
       "<style scoped>\n",
       "    .dataframe tbody tr th:only-of-type {\n",
       "        vertical-align: middle;\n",
       "    }\n",
       "\n",
       "    .dataframe tbody tr th {\n",
       "        vertical-align: top;\n",
       "    }\n",
       "\n",
       "    .dataframe thead th {\n",
       "        text-align: right;\n",
       "    }\n",
       "</style>\n",
       "<table border=\"1\" class=\"dataframe\">\n",
       "  <thead>\n",
       "    <tr style=\"text-align: right;\">\n",
       "      <th></th>\n",
       "      <th>input_text</th>\n",
       "      <th>output_text</th>\n",
       "    </tr>\n",
       "  </thead>\n",
       "  <tbody>\n",
       "    <tr>\n",
       "      <th>0</th>\n",
       "      <td>Hold your arm out flat in front of you with yo...</td>\n",
       "      <td>Squeeze a line of lotion onto the tops of both...</td>\n",
       "    </tr>\n",
       "    <tr>\n",
       "      <th>1</th>\n",
       "      <td>As you continue playing, surviving becomes pai...</td>\n",
       "      <td>Make a Crock Pot for better food. Create an Al...</td>\n",
       "    </tr>\n",
       "    <tr>\n",
       "      <th>2</th>\n",
       "      <td>Go to https://www.4kdownload.com/products/prod...</td>\n",
       "      <td>Download the 4K Video Downloader setup file. I...</td>\n",
       "    </tr>\n",
       "    <tr>\n",
       "      <th>3</th>\n",
       "      <td>You should know that vaginoplasty can treat a ...</td>\n",
       "      <td>Consider the health of your bladder. Find a so...</td>\n",
       "    </tr>\n",
       "    <tr>\n",
       "      <th>4</th>\n",
       "      <td>If you want to gather data on the frequency of...</td>\n",
       "      <td>Gather data to be graphed. Choose your range b...</td>\n",
       "    </tr>\n",
       "  </tbody>\n",
       "</table>\n",
       "</div>"
      ],
      "text/plain": [
       "                                          input_text  \\\n",
       "0  Hold your arm out flat in front of you with yo...   \n",
       "1  As you continue playing, surviving becomes pai...   \n",
       "2  Go to https://www.4kdownload.com/products/prod...   \n",
       "3  You should know that vaginoplasty can treat a ...   \n",
       "4  If you want to gather data on the frequency of...   \n",
       "\n",
       "                                         output_text  \n",
       "0  Squeeze a line of lotion onto the tops of both...  \n",
       "1  Make a Crock Pot for better food. Create an Al...  \n",
       "2  Download the 4K Video Downloader setup file. I...  \n",
       "3  Consider the health of your bladder. Find a so...  \n",
       "4  Gather data to be graphed. Choose your range b...  "
      ]
     },
     "execution_count": 17,
     "metadata": {},
     "output_type": "execute_result"
    }
   ],
   "source": [
    "# Load the test dataset using pandas as it's in the csv format.\n",
    "testing_data_path = \"sft_test_samples.csv\"\n",
    "test_data = pd.read_csv(testing_data_path)\n",
    "test_data.head()"
   ]
  },
  {
   "cell_type": "code",
   "execution_count": 18,
   "metadata": {
    "id": "bRBtYfN_PPaP",
    "tags": []
   },
   "outputs": [
    {
     "data": {
      "text/plain": [
       "'Hold your arm out flat in front of you with your elbow bent. The top of your forearm should form a level surface. Apply a line of lotion from the back of your hand up your arm almost to the crease of your elbow. Squeeze lotion onto both forearms.  Do not rub the lotion into your arms, rather let it sit on your arm in the line you squeezed. You can use as much or as little lotion as you feel is necessary to cover your back completely. Bend your elbows and reach both of your arms behind you, placing the lotion covered forearms against your back. Depending on how flexible you are, this may hurt a little. It might be easier to place one arm behind your back at a time. If you have shoulder pain or are not very flexible, this method may not work well for you. Rub your forearms and the backs of your hands up and down your back like windshield wipers covering as much of your back as you can. You can use your left arm first to cover your left side and then place your right arm behind and use it to cover the right side of your back. Repeat this process as necessary if you don’t feel like you got enough lotion on your back.\\n\\nProvide a summary of the article in two or three sentences:\\n\\n'"
      ]
     },
     "execution_count": 18,
     "metadata": {},
     "output_type": "execute_result"
    }
   ],
   "source": [
    "test_data.loc[0, \"input_text\"]"
   ]
  },
  {
   "cell_type": "code",
   "execution_count": 19,
   "metadata": {
    "id": "tTt7qjSeSHRW",
    "tags": []
   },
   "outputs": [
    {
     "data": {
      "text/plain": [
       "count    100.000000\n",
       "mean     186.230000\n",
       "std       92.788655\n",
       "min       28.000000\n",
       "25%      127.250000\n",
       "50%      171.000000\n",
       "75%      227.000000\n",
       "max      577.000000\n",
       "Name: output_text, dtype: float64"
      ]
     },
     "execution_count": 19,
     "metadata": {},
     "output_type": "execute_result"
    }
   ],
   "source": [
    "# Article summary stats\n",
    "stats = test_data[\"output_text\"].apply(len).describe()\n",
    "stats"
   ]
  },
  {
   "cell_type": "code",
   "execution_count": 20,
   "metadata": {
    "id": "WKptd49cdjSi",
    "tags": []
   },
   "outputs": [
    {
     "name": "stdout",
     "output_type": "stream",
     "text": [
      "Total `100.0` test records\n",
      "Average length is `186.23` and max is `577.0` characters\n",
      "\n",
      "Considering 1 token = 4 chars\n",
      "\n",
      "Set max_token_length = stats['max']/4 = 144.25 ~ 145 characters\n",
      "\n",
      "Let's keep output tokens upto `145`\n"
     ]
    }
   ],
   "source": [
    "print(f\"Total `{stats['count']}` test records\")\n",
    "print(f\"Average length is `{stats['mean']}` and max is `{stats['max']}` characters\")\n",
    "print(\"\\nConsidering 1 token = 4 chars\")\n",
    "\n",
    "# Get ceil value of the tokens required.\n",
    "tokens = (stats[\"max\"] / 4).__ceil__()\n",
    "print(\n",
    "    f\"\\nSet max_token_length = stats['max']/4 = {stats['max']/4} ~ {tokens} characters\"\n",
    ")\n",
    "print(f\"\\nLet's keep output tokens upto `{tokens}`\")"
   ]
  },
  {
   "cell_type": "code",
   "execution_count": null,
   "metadata": {
    "id": "idM1p_UNvA7w",
    "tags": []
   },
   "outputs": [],
   "source": [
    "max_output_tokens = tokens"
   ]
  },
  {
   "cell_type": "markdown",
   "metadata": {
    "id": "DhjmRffOOPAS"
   },
   "source": [
    "## Step4: Initialize the model"
   ]
  },
  {
   "cell_type": "markdown",
   "metadata": {
    "id": "UhhD1VWDsLat"
   },
   "source": [
    "The following Gemini text model supports supervised tuning:\n",
    "\n",
    "* `gemini-2.0-flash-001`"
   ]
  },
  {
   "cell_type": "code",
   "execution_count": 22,
   "metadata": {
    "id": "jL-zRl5_OVZW",
    "tags": []
   },
   "outputs": [],
   "source": [
    "base_model = \"gemini-2.0-flash-001\""
   ]
  },
  {
   "cell_type": "markdown",
   "metadata": {
    "id": "ieJe8yGlOtFD"
   },
   "source": [
    "## Step5: Test the Gemini model"
   ]
  },
  {
   "cell_type": "markdown",
   "metadata": {
    "id": "F8DFUzRnHMi8"
   },
   "source": [
    "### Generation config\n",
    "\n",
    "- Each call that you send to a model includes parameter values that control how the model generates a response. The model can generate different results for different parameter values\n",
    "- <strong>Experiment</strong> with different parameter values to get the best values for the task\n",
    "\n",
    "Refer to the following [link](https://cloud.google.com/vertex-ai/generative-ai/docs/learn/prompts/adjust-parameter-values) for understanding different parameters"
   ]
  },
  {
   "cell_type": "markdown",
   "metadata": {
    "id": "6hbaeT8AcniS"
   },
   "source": [
    "**Prompt** is a natural language request submitted to a language model to receive a response back\n",
    "\n",
    "Some best practices include\n",
    "  - Clearly communicate what content or information is most important\n",
    "  - Structure the prompt:\n",
    "    - Defining the role if using one. For example, You are an experienced UX designer at a top tech company\n",
    "    - Include context and input data\n",
    "    - Provide the instructions to the model\n",
    "    - Add example(s) if you are using them\n",
    "\n",
    "Refer to the following [link](https://cloud.google.com/vertex-ai/generative-ai/docs/learn/prompts/prompt-design-strategies) for prompt design strategies."
   ]
  },
  {
   "cell_type": "markdown",
   "metadata": {
    "id": "hZUcvQr0rAWA"
   },
   "source": [
    "Wikilingua data contains the following task prompt at the end of the article, `Provide a summary of the article in two or three sentences:`"
   ]
  },
  {
   "cell_type": "code",
   "execution_count": 23,
   "metadata": {
    "id": "iu6OuIhFOv4C",
    "tags": []
   },
   "outputs": [
    {
     "name": "stdout",
     "output_type": "stream",
     "text": [
      "This article describes a method for applying lotion to your back using your forearms as applicators. It involves squeezing lotion onto your forearms and then using them to rub the lotion across your back in a windshield wiper motion. The method acknowledges potential limitations for individuals with shoulder pain or limited flexibility.\n",
      "\n"
     ]
    }
   ],
   "source": [
    "test_doc = test_data.loc[0, \"input_text\"]\n",
    "\n",
    "prompt = f\"\"\"\n",
    "{test_doc}\n",
    "\"\"\"\n",
    "\n",
    "config = {\n",
    "    \"temperature\": 0.1,\n",
    "    \"max_output_tokens\": max_output_tokens,\n",
    "}\n",
    "\n",
    "response = client.models.generate_content(\n",
    "    model=base_model,\n",
    "    contents=prompt,\n",
    "    config=config,\n",
    ").text\n",
    "print(response)"
   ]
  },
  {
   "cell_type": "code",
   "execution_count": null,
   "metadata": {
    "id": "8YvlMfmIQqK8",
    "tags": []
   },
   "outputs": [
    {
     "data": {
      "text/plain": [
       "'Squeeze a line of lotion onto the tops of both forearms and the backs of your hands. Place your arms behind your back. Move your arms in a windshield wiper motion.'"
      ]
     },
     "execution_count": 26,
     "metadata": {},
     "output_type": "execute_result"
    }
   ],
   "source": [
    "test_data.loc[0, \"output_text\"]"
   ]
  },
  {
   "cell_type": "markdown",
   "metadata": {
    "id": "jGPUKZlcP69-"
   },
   "source": [
    "## Step6: Evaluation before model tuning"
   ]
  },
  {
   "cell_type": "markdown",
   "metadata": {
    "id": "1yayTQdd9oE5"
   },
   "source": [
    "- Evaluate the Gemini model on the test dataset before tuning it on the training dataset."
   ]
  },
  {
   "cell_type": "code",
   "execution_count": null,
   "metadata": {
    "id": "610J64SpQ5TE",
    "tags": []
   },
   "outputs": [
    {
     "data": {
      "text/plain": [
       "100"
      ]
     },
     "execution_count": 27,
     "metadata": {},
     "output_type": "execute_result"
    }
   ],
   "source": [
    "corpus = test_data.to_dict(orient=\"records\")\n",
    "len(corpus)"
   ]
  },
  {
   "cell_type": "markdown",
   "metadata": {
    "id": "KkKldH90MY4v"
   },
   "source": [
    "### Evaluation metric\n",
    "\n",
    "The type of metrics used for evaluation depends on the task that you are evaluating. The following table shows the supported tasks and the metrics used to evaluate each task:"
   ]
  },
  {
   "cell_type": "markdown",
   "metadata": {
    "id": "t6oLtUEWMHVu"
   },
   "source": [
    "| Task             | Metric(s)                     |\n",
    "|-----------------|---------------------------------|\n",
    "| Classification   | Micro-F1, Macro-F1, Per class F1 |\n",
    "| Summarization    | ROUGE-L                         |\n",
    "| Question Answering | Exact Match                     |\n",
    "| Text Generation  | BLEU, ROUGE-L                   |\n",
    "\n",
    "\n",
    "<br/>\n",
    "\n",
    "Refer to this [documentation](https://cloud.google.com/vertex-ai/generative-ai/docs/models/evaluate-models) for metric based evaluation."
   ]
  },
  {
   "cell_type": "markdown",
   "metadata": {
    "id": "iKNk3zG4CNSS"
   },
   "source": [
    "- **Recall-Oriented Understudy for Gisting Evaluation (ROUGE)**: A metric used to evaluate the quality of automatic summaries of text. It works by comparing a generated summary to a set of reference summaries created by humans."
   ]
  },
  {
   "cell_type": "markdown",
   "metadata": {
    "id": "5XP9VOaTd3z8"
   },
   "source": [
    "Now you can take the candidate and reference to evaluate the performance. In this case, ROUGE will give you:\n",
    "\n",
    "- `rouge-1`, which measures unigram overlap\n",
    "- `rouge-2`, which measures bigram overlap\n",
    "- `rouge-l`, which measures the longest common subsequence"
   ]
  },
  {
   "cell_type": "markdown",
   "metadata": {
    "id": "I2CrcvvzFfBL"
   },
   "source": [
    "#### *Recall vs. Precision*\n",
    "\n",
    "**Recall**, meaning it prioritizes how much of the information in the reference summaries is captured in the generated summary.\n",
    "\n",
    "**Precision**, which measures how much of the generated summary is relevant to the original text."
   ]
  },
  {
   "cell_type": "markdown",
   "metadata": {
    "id": "uU6K4YdaGGyp"
   },
   "source": [
    "<strong>Alternate Evaluation method</strong>: Check out the [AutoSxS](https://cloud.google.com/vertex-ai/generative-ai/docs/models/side-by-side-eval) evaluation for automatic evaluation of the task.\n"
   ]
  },
  {
   "cell_type": "code",
   "execution_count": null,
   "metadata": {
    "id": "p3YZAOZcQWtW",
    "tags": []
   },
   "outputs": [],
   "source": [
    "scorer = rouge_scorer.RougeScorer([\"rouge1\", \"rouge2\", \"rougeL\"], use_stemmer=True)"
   ]
  },
  {
   "cell_type": "code",
   "execution_count": 30,
   "metadata": {
    "id": "N8Y06N_b_EP5",
    "tags": []
   },
   "outputs": [],
   "source": [
    "def run_evaluation(model, corpus: list[dict]) -> pd.DataFrame:\n",
    "    \"\"\"Runs evaluation for the given model and data.\n",
    "\n",
    "    Args:\n",
    "      model: The generation model.\n",
    "      corpus: The test data.\n",
    "\n",
    "    Returns:\n",
    "      A pandas DataFrame containing the evaluation results.\n",
    "    \"\"\"\n",
    "    records = []\n",
    "    for item in tqdm(corpus):\n",
    "        document = item.get(\"input_text\")\n",
    "        summary = item.get(\"output_text\")\n",
    "\n",
    "        # Catch any exception that occur during model evaluation.\n",
    "        try:\n",
    "            response = client.models.generate_content(\n",
    "                model=model,\n",
    "                contents=document,\n",
    "                config=config,\n",
    "            )\n",
    "\n",
    "            # Check if response is generated by the model, if response is empty then continue to next item.\n",
    "            if not (\n",
    "                response\n",
    "                and response.candidates\n",
    "                and response.candidates[0].content.parts\n",
    "            ):\n",
    "                print(\n",
    "                    f\"\\nModel has blocked the response for the document.\\n Response: {response}\\n Document: {document}\"\n",
    "                )\n",
    "                continue\n",
    "\n",
    "            # Calculates the ROUGE score for a given reference and generated summary.\n",
    "            scores = scorer.score(target=summary, prediction=response.text)\n",
    "\n",
    "            # Append the results to the records list\n",
    "            records.append(\n",
    "                {\n",
    "                    \"document\": document,\n",
    "                    \"summary\": summary,\n",
    "                    \"generated_summary\": response.text,\n",
    "                    \"scores\": scores,\n",
    "                    \"rouge1_precision\": scores.get(\"rouge1\").precision,\n",
    "                    \"rouge1_recall\": scores.get(\"rouge1\").recall,\n",
    "                    \"rouge1_fmeasure\": scores.get(\"rouge1\").fmeasure,\n",
    "                    \"rouge2_precision\": scores.get(\"rouge2\").precision,\n",
    "                    \"rouge2_recall\": scores.get(\"rouge2\").recall,\n",
    "                    \"rouge2_fmeasure\": scores.get(\"rouge2\").fmeasure,\n",
    "                    \"rougeL_precision\": scores.get(\"rougeL\").precision,\n",
    "                    \"rougeL_recall\": scores.get(\"rougeL\").recall,\n",
    "                    \"rougeL_fmeasure\": scores.get(\"rougeL\").fmeasure,\n",
    "                }\n",
    "            )\n",
    "        except AttributeError as attr_err:\n",
    "            print(\"Attribute Error:\", attr_err)\n",
    "            continue\n",
    "        except Exception as err:\n",
    "            print(\"Error:\", err)\n",
    "            continue\n",
    "    return pd.DataFrame(records)"
   ]
  },
  {
   "cell_type": "code",
   "execution_count": 31,
   "metadata": {
    "id": "4afTSo5cpM73",
    "tags": []
   },
   "outputs": [],
   "source": [
    "# Batch of test data.\n",
    "corpus_batch = corpus[:100]"
   ]
  },
  {
   "cell_type": "markdown",
   "metadata": {
    "id": "oM10zigp7kTZ"
   },
   "source": [
    "<div class=\"alert alert-block alert-warning\">\n",
    "<b>⚠️ It will take ~5 mins for the evaluation run on the provided batch. ⚠️</b>\n",
    "</div>"
   ]
  },
  {
   "cell_type": "code",
   "execution_count": 32,
   "metadata": {
    "id": "aO8JhIg1pYkE",
    "tags": []
   },
   "outputs": [
    {
     "name": "stderr",
     "output_type": "stream",
     "text": [
      "100%|██████████| 100/100 [01:03<00:00,  1.58it/s]\n"
     ]
    }
   ],
   "source": [
    "# Run evaluation using loaded model and test data corpus\n",
    "evaluation_df = run_evaluation(base_model, corpus_batch)"
   ]
  },
  {
   "cell_type": "code",
   "execution_count": 33,
   "metadata": {
    "id": "H4VUFeb9tRBP",
    "tags": []
   },
   "outputs": [
    {
     "data": {
      "text/html": [
       "<div>\n",
       "<style scoped>\n",
       "    .dataframe tbody tr th:only-of-type {\n",
       "        vertical-align: middle;\n",
       "    }\n",
       "\n",
       "    .dataframe tbody tr th {\n",
       "        vertical-align: top;\n",
       "    }\n",
       "\n",
       "    .dataframe thead th {\n",
       "        text-align: right;\n",
       "    }\n",
       "</style>\n",
       "<table border=\"1\" class=\"dataframe\">\n",
       "  <thead>\n",
       "    <tr style=\"text-align: right;\">\n",
       "      <th></th>\n",
       "      <th>document</th>\n",
       "      <th>summary</th>\n",
       "      <th>generated_summary</th>\n",
       "      <th>scores</th>\n",
       "      <th>rouge1_precision</th>\n",
       "      <th>rouge1_recall</th>\n",
       "      <th>rouge1_fmeasure</th>\n",
       "      <th>rouge2_precision</th>\n",
       "      <th>rouge2_recall</th>\n",
       "      <th>rouge2_fmeasure</th>\n",
       "      <th>rougeL_precision</th>\n",
       "      <th>rougeL_recall</th>\n",
       "      <th>rougeL_fmeasure</th>\n",
       "    </tr>\n",
       "  </thead>\n",
       "  <tbody>\n",
       "    <tr>\n",
       "      <th>0</th>\n",
       "      <td>Hold your arm out flat in front of you with yo...</td>\n",
       "      <td>Squeeze a line of lotion onto the tops of both...</td>\n",
       "      <td>This article describes a method for applying l...</td>\n",
       "      <td>{'rouge1': (0.3137254901960784, 0.516129032258...</td>\n",
       "      <td>0.313725</td>\n",
       "      <td>0.516129</td>\n",
       "      <td>0.390244</td>\n",
       "      <td>0.080000</td>\n",
       "      <td>0.133333</td>\n",
       "      <td>0.100000</td>\n",
       "      <td>0.196078</td>\n",
       "      <td>0.322581</td>\n",
       "      <td>0.243902</td>\n",
       "    </tr>\n",
       "    <tr>\n",
       "      <th>1</th>\n",
       "      <td>As you continue playing, surviving becomes pai...</td>\n",
       "      <td>Make a Crock Pot for better food. Create an Al...</td>\n",
       "      <td>To survive longer in the game, players need to...</td>\n",
       "      <td>{'rouge1': (0.30612244897959184, 0.83333333333...</td>\n",
       "      <td>0.306122</td>\n",
       "      <td>0.833333</td>\n",
       "      <td>0.447761</td>\n",
       "      <td>0.062500</td>\n",
       "      <td>0.176471</td>\n",
       "      <td>0.092308</td>\n",
       "      <td>0.183673</td>\n",
       "      <td>0.500000</td>\n",
       "      <td>0.268657</td>\n",
       "    </tr>\n",
       "    <tr>\n",
       "      <th>2</th>\n",
       "      <td>Go to https://www.4kdownload.com/products/prod...</td>\n",
       "      <td>Download the 4K Video Downloader setup file. I...</td>\n",
       "      <td>This article provides step-by-step instruction...</td>\n",
       "      <td>{'rouge1': (0.4186046511627907, 0.305084745762...</td>\n",
       "      <td>0.418605</td>\n",
       "      <td>0.305085</td>\n",
       "      <td>0.352941</td>\n",
       "      <td>0.095238</td>\n",
       "      <td>0.068966</td>\n",
       "      <td>0.080000</td>\n",
       "      <td>0.325581</td>\n",
       "      <td>0.237288</td>\n",
       "      <td>0.274510</td>\n",
       "    </tr>\n",
       "    <tr>\n",
       "      <th>3</th>\n",
       "      <td>You should know that vaginoplasty can treat a ...</td>\n",
       "      <td>Consider the health of your bladder. Find a so...</td>\n",
       "      <td>Vaginoplasty can be a solution for a prolapsed...</td>\n",
       "      <td>{'rouge1': (0.26785714285714285, 0.53571428571...</td>\n",
       "      <td>0.267857</td>\n",
       "      <td>0.535714</td>\n",
       "      <td>0.357143</td>\n",
       "      <td>0.090909</td>\n",
       "      <td>0.185185</td>\n",
       "      <td>0.121951</td>\n",
       "      <td>0.160714</td>\n",
       "      <td>0.321429</td>\n",
       "      <td>0.214286</td>\n",
       "    </tr>\n",
       "    <tr>\n",
       "      <th>4</th>\n",
       "      <td>If you want to gather data on the frequency of...</td>\n",
       "      <td>Gather data to be graphed. Choose your range b...</td>\n",
       "      <td>Histograms are useful for visualizing the freq...</td>\n",
       "      <td>{'rouge1': (0.25862068965517243, 0.65217391304...</td>\n",
       "      <td>0.258621</td>\n",
       "      <td>0.652174</td>\n",
       "      <td>0.370370</td>\n",
       "      <td>0.087719</td>\n",
       "      <td>0.227273</td>\n",
       "      <td>0.126582</td>\n",
       "      <td>0.224138</td>\n",
       "      <td>0.565217</td>\n",
       "      <td>0.320988</td>\n",
       "    </tr>\n",
       "  </tbody>\n",
       "</table>\n",
       "</div>"
      ],
      "text/plain": [
       "                                            document  \\\n",
       "0  Hold your arm out flat in front of you with yo...   \n",
       "1  As you continue playing, surviving becomes pai...   \n",
       "2  Go to https://www.4kdownload.com/products/prod...   \n",
       "3  You should know that vaginoplasty can treat a ...   \n",
       "4  If you want to gather data on the frequency of...   \n",
       "\n",
       "                                             summary  \\\n",
       "0  Squeeze a line of lotion onto the tops of both...   \n",
       "1  Make a Crock Pot for better food. Create an Al...   \n",
       "2  Download the 4K Video Downloader setup file. I...   \n",
       "3  Consider the health of your bladder. Find a so...   \n",
       "4  Gather data to be graphed. Choose your range b...   \n",
       "\n",
       "                                   generated_summary  \\\n",
       "0  This article describes a method for applying l...   \n",
       "1  To survive longer in the game, players need to...   \n",
       "2  This article provides step-by-step instruction...   \n",
       "3  Vaginoplasty can be a solution for a prolapsed...   \n",
       "4  Histograms are useful for visualizing the freq...   \n",
       "\n",
       "                                              scores  rouge1_precision  \\\n",
       "0  {'rouge1': (0.3137254901960784, 0.516129032258...          0.313725   \n",
       "1  {'rouge1': (0.30612244897959184, 0.83333333333...          0.306122   \n",
       "2  {'rouge1': (0.4186046511627907, 0.305084745762...          0.418605   \n",
       "3  {'rouge1': (0.26785714285714285, 0.53571428571...          0.267857   \n",
       "4  {'rouge1': (0.25862068965517243, 0.65217391304...          0.258621   \n",
       "\n",
       "   rouge1_recall  rouge1_fmeasure  rouge2_precision  rouge2_recall  \\\n",
       "0       0.516129         0.390244          0.080000       0.133333   \n",
       "1       0.833333         0.447761          0.062500       0.176471   \n",
       "2       0.305085         0.352941          0.095238       0.068966   \n",
       "3       0.535714         0.357143          0.090909       0.185185   \n",
       "4       0.652174         0.370370          0.087719       0.227273   \n",
       "\n",
       "   rouge2_fmeasure  rougeL_precision  rougeL_recall  rougeL_fmeasure  \n",
       "0         0.100000          0.196078       0.322581         0.243902  \n",
       "1         0.092308          0.183673       0.500000         0.268657  \n",
       "2         0.080000          0.325581       0.237288         0.274510  \n",
       "3         0.121951          0.160714       0.321429         0.214286  \n",
       "4         0.126582          0.224138       0.565217         0.320988  "
      ]
     },
     "execution_count": 33,
     "metadata": {},
     "output_type": "execute_result"
    }
   ],
   "source": [
    "evaluation_df.head()"
   ]
  },
  {
   "cell_type": "code",
   "execution_count": 35,
   "metadata": {
    "id": "18m75w6m0R10",
    "tags": []
   },
   "outputs": [],
   "source": [
    "evaluation_df_stats = evaluation_df.dropna().describe()"
   ]
  },
  {
   "cell_type": "code",
   "execution_count": 36,
   "metadata": {
    "id": "dYokPWqdUIMv",
    "tags": []
   },
   "outputs": [
    {
     "data": {
      "text/html": [
       "<div>\n",
       "<style scoped>\n",
       "    .dataframe tbody tr th:only-of-type {\n",
       "        vertical-align: middle;\n",
       "    }\n",
       "\n",
       "    .dataframe tbody tr th {\n",
       "        vertical-align: top;\n",
       "    }\n",
       "\n",
       "    .dataframe thead th {\n",
       "        text-align: right;\n",
       "    }\n",
       "</style>\n",
       "<table border=\"1\" class=\"dataframe\">\n",
       "  <thead>\n",
       "    <tr style=\"text-align: right;\">\n",
       "      <th></th>\n",
       "      <th>rouge1_precision</th>\n",
       "      <th>rouge1_recall</th>\n",
       "      <th>rouge1_fmeasure</th>\n",
       "      <th>rouge2_precision</th>\n",
       "      <th>rouge2_recall</th>\n",
       "      <th>rouge2_fmeasure</th>\n",
       "      <th>rougeL_precision</th>\n",
       "      <th>rougeL_recall</th>\n",
       "      <th>rougeL_fmeasure</th>\n",
       "    </tr>\n",
       "  </thead>\n",
       "  <tbody>\n",
       "    <tr>\n",
       "      <th>count</th>\n",
       "      <td>100.000000</td>\n",
       "      <td>100.000000</td>\n",
       "      <td>100.000000</td>\n",
       "      <td>100.000000</td>\n",
       "      <td>100.000000</td>\n",
       "      <td>100.000000</td>\n",
       "      <td>100.000000</td>\n",
       "      <td>100.000000</td>\n",
       "      <td>100.000000</td>\n",
       "    </tr>\n",
       "    <tr>\n",
       "      <th>mean</th>\n",
       "      <td>0.227744</td>\n",
       "      <td>0.407047</td>\n",
       "      <td>0.273725</td>\n",
       "      <td>0.049879</td>\n",
       "      <td>0.093446</td>\n",
       "      <td>0.060869</td>\n",
       "      <td>0.148825</td>\n",
       "      <td>0.275474</td>\n",
       "      <td>0.181116</td>\n",
       "    </tr>\n",
       "    <tr>\n",
       "      <th>std</th>\n",
       "      <td>0.104968</td>\n",
       "      <td>0.155715</td>\n",
       "      <td>0.098666</td>\n",
       "      <td>0.045402</td>\n",
       "      <td>0.086418</td>\n",
       "      <td>0.054015</td>\n",
       "      <td>0.067785</td>\n",
       "      <td>0.124190</td>\n",
       "      <td>0.070995</td>\n",
       "    </tr>\n",
       "    <tr>\n",
       "      <th>min</th>\n",
       "      <td>0.023810</td>\n",
       "      <td>0.083333</td>\n",
       "      <td>0.044444</td>\n",
       "      <td>0.000000</td>\n",
       "      <td>0.000000</td>\n",
       "      <td>0.000000</td>\n",
       "      <td>0.023810</td>\n",
       "      <td>0.079646</td>\n",
       "      <td>0.044444</td>\n",
       "    </tr>\n",
       "    <tr>\n",
       "      <th>25%</th>\n",
       "      <td>0.147996</td>\n",
       "      <td>0.287775</td>\n",
       "      <td>0.200000</td>\n",
       "      <td>0.018022</td>\n",
       "      <td>0.030890</td>\n",
       "      <td>0.023955</td>\n",
       "      <td>0.095925</td>\n",
       "      <td>0.179872</td>\n",
       "      <td>0.132609</td>\n",
       "    </tr>\n",
       "    <tr>\n",
       "      <th>50%</th>\n",
       "      <td>0.212940</td>\n",
       "      <td>0.384921</td>\n",
       "      <td>0.269943</td>\n",
       "      <td>0.040000</td>\n",
       "      <td>0.071921</td>\n",
       "      <td>0.046319</td>\n",
       "      <td>0.133756</td>\n",
       "      <td>0.259486</td>\n",
       "      <td>0.167249</td>\n",
       "    </tr>\n",
       "    <tr>\n",
       "      <th>75%</th>\n",
       "      <td>0.302277</td>\n",
       "      <td>0.520682</td>\n",
       "      <td>0.352941</td>\n",
       "      <td>0.069227</td>\n",
       "      <td>0.134091</td>\n",
       "      <td>0.086151</td>\n",
       "      <td>0.191863</td>\n",
       "      <td>0.333333</td>\n",
       "      <td>0.224971</td>\n",
       "    </tr>\n",
       "    <tr>\n",
       "      <th>max</th>\n",
       "      <td>0.619048</td>\n",
       "      <td>0.833333</td>\n",
       "      <td>0.488889</td>\n",
       "      <td>0.195122</td>\n",
       "      <td>0.363636</td>\n",
       "      <td>0.242424</td>\n",
       "      <td>0.357143</td>\n",
       "      <td>0.615385</td>\n",
       "      <td>0.378947</td>\n",
       "    </tr>\n",
       "  </tbody>\n",
       "</table>\n",
       "</div>"
      ],
      "text/plain": [
       "       rouge1_precision  rouge1_recall  rouge1_fmeasure  rouge2_precision  \\\n",
       "count        100.000000     100.000000       100.000000        100.000000   \n",
       "mean           0.227744       0.407047         0.273725          0.049879   \n",
       "std            0.104968       0.155715         0.098666          0.045402   \n",
       "min            0.023810       0.083333         0.044444          0.000000   \n",
       "25%            0.147996       0.287775         0.200000          0.018022   \n",
       "50%            0.212940       0.384921         0.269943          0.040000   \n",
       "75%            0.302277       0.520682         0.352941          0.069227   \n",
       "max            0.619048       0.833333         0.488889          0.195122   \n",
       "\n",
       "       rouge2_recall  rouge2_fmeasure  rougeL_precision  rougeL_recall  \\\n",
       "count     100.000000       100.000000        100.000000     100.000000   \n",
       "mean        0.093446         0.060869          0.148825       0.275474   \n",
       "std         0.086418         0.054015          0.067785       0.124190   \n",
       "min         0.000000         0.000000          0.023810       0.079646   \n",
       "25%         0.030890         0.023955          0.095925       0.179872   \n",
       "50%         0.071921         0.046319          0.133756       0.259486   \n",
       "75%         0.134091         0.086151          0.191863       0.333333   \n",
       "max         0.363636         0.242424          0.357143       0.615385   \n",
       "\n",
       "       rougeL_fmeasure  \n",
       "count       100.000000  \n",
       "mean          0.181116  \n",
       "std           0.070995  \n",
       "min           0.044444  \n",
       "25%           0.132609  \n",
       "50%           0.167249  \n",
       "75%           0.224971  \n",
       "max           0.378947  "
      ]
     },
     "execution_count": 36,
     "metadata": {},
     "output_type": "execute_result"
    }
   ],
   "source": [
    "# Statistics of the evaluation dataframe.\n",
    "evaluation_df_stats"
   ]
  },
  {
   "cell_type": "code",
   "execution_count": 37,
   "metadata": {
    "id": "4fdVjY_JWcmq",
    "tags": []
   },
   "outputs": [
    {
     "name": "stdout",
     "output_type": "stream",
     "text": [
      "Mean rougeL_precision is 0.148824721413922\n"
     ]
    }
   ],
   "source": [
    "print(\"Mean rougeL_precision is\", evaluation_df_stats.rougeL_precision[\"mean\"])"
   ]
  },
  {
   "cell_type": "markdown",
   "metadata": {
    "id": "IgMb3E0YEqL2"
   },
   "source": [
    "## Step7: Fine-tune the model\n",
    "\n",
    " - `source_model`: Specifies the base Gemini model version you want to fine-tune.\n",
    " - `train_dataset`: Path to your training data in JSONL format.\n",
    "\n",
    "  *Optional parameters*\n",
    " - `validation_dataset`: If provided, this data is used to evaluate the model during tuning.\n",
    " - `tuned_model_display_name`: Display name for the tuned model.\n",
    " - `epochs`: The number of training epochs to run.\n",
    " - `learning_rate_multiplier`: A value to scale the learning rate during training.\n",
    " - `adapter_size` : Gemini 2.0 Pro supports Adapter length [1, 2, 4, 8], default value is 4."
   ]
  },
  {
   "cell_type": "markdown",
   "metadata": {
    "id": "4e81137766c6"
   },
   "source": [
    "**Note: The default hyperparameter settings are optimized for optimal performance based on rigorous testing and are recommended for initial use. Users may customize these parameters to address specific performance requirements.**"
   ]
  },
  {
   "cell_type": "code",
   "execution_count": 38,
   "metadata": {
    "id": "vQM2vDBZ27b_",
    "tags": []
   },
   "outputs": [
    {
     "name": "stderr",
     "output_type": "stream",
     "text": [
      "/var/tmp/ipykernel_5468/2623409050.py:12: ExperimentalWarning: The SDK's tuning implementation is experimental, and may change in future versions.\n",
      "  sft_tuning_job = client.tunings.tune(\n"
     ]
    },
    {
     "data": {
      "text/html": [
       "\n",
       "        \n",
       "    <link rel=\"stylesheet\" href=\"https://fonts.googleapis.com/icon?family=Material+Icons\">\n",
       "    <style>\n",
       "      .view-vertex-resource,\n",
       "      .view-vertex-resource:hover,\n",
       "      .view-vertex-resource:visited {\n",
       "        position: relative;\n",
       "        display: inline-flex;\n",
       "        flex-direction: row;\n",
       "        height: 32px;\n",
       "        padding: 0 12px;\n",
       "          margin: 4px 18px;\n",
       "        gap: 4px;\n",
       "        border-radius: 4px;\n",
       "\n",
       "        align-items: center;\n",
       "        justify-content: center;\n",
       "        background-color: rgb(255, 255, 255);\n",
       "        color: rgb(51, 103, 214);\n",
       "\n",
       "        font-family: Roboto,\"Helvetica Neue\",sans-serif;\n",
       "        font-size: 13px;\n",
       "        font-weight: 500;\n",
       "        text-transform: uppercase;\n",
       "        text-decoration: none !important;\n",
       "\n",
       "        transition: box-shadow 280ms cubic-bezier(0.4, 0, 0.2, 1) 0s;\n",
       "        box-shadow: 0px 3px 1px -2px rgba(0,0,0,0.2), 0px 2px 2px 0px rgba(0,0,0,0.14), 0px 1px 5px 0px rgba(0,0,0,0.12);\n",
       "      }\n",
       "      .view-vertex-resource:active {\n",
       "        box-shadow: 0px 5px 5px -3px rgba(0,0,0,0.2),0px 8px 10px 1px rgba(0,0,0,0.14),0px 3px 14px 2px rgba(0,0,0,0.12);\n",
       "      }\n",
       "      .view-vertex-resource:active .view-vertex-ripple::before {\n",
       "        position: absolute;\n",
       "        top: 0;\n",
       "        bottom: 0;\n",
       "        left: 0;\n",
       "        right: 0;\n",
       "        border-radius: 4px;\n",
       "        pointer-events: none;\n",
       "\n",
       "        content: '';\n",
       "        background-color: rgb(51, 103, 214);\n",
       "        opacity: 0.12;\n",
       "      }\n",
       "      .view-vertex-icon {\n",
       "        font-size: 18px;\n",
       "      }\n",
       "    </style>\n",
       "  \n",
       "        <a class=\"view-vertex-resource\" id=\"view-vertex-resource-36b441b4-65dd-4282-8b30-776eefb5236e\" href=\"#view-view-vertex-resource-36b441b4-65dd-4282-8b30-776eefb5236e\">\n",
       "          <span class=\"material-icons view-vertex-icon\">tune</span>\n",
       "          <span>View Tuning Job</span>\n",
       "        </a>\n",
       "        \n",
       "        <script>\n",
       "          (function () {\n",
       "            const link = document.getElementById('view-vertex-resource-36b441b4-65dd-4282-8b30-776eefb5236e');\n",
       "            link.addEventListener('click', (e) => {\n",
       "              if (window.google?.colab?.openUrl) {\n",
       "                window.google.colab.openUrl('https://console.cloud.google.com/vertex-ai/generative/language/locations/us-central1/tuning/tuningJob/2586013226399432704?project=15186398363');\n",
       "              } else {\n",
       "                window.open('https://console.cloud.google.com/vertex-ai/generative/language/locations/us-central1/tuning/tuningJob/2586013226399432704?project=15186398363', '_blank');\n",
       "              }\n",
       "              e.stopPropagation();\n",
       "              e.preventDefault();\n",
       "            });\n",
       "          })();\n",
       "        </script>\n",
       "    "
      ],
      "text/plain": [
       "<IPython.core.display.HTML object>"
      ]
     },
     "metadata": {},
     "output_type": "display_data"
    }
   ],
   "source": [
    "tuned_model_display_name = \"[DISPLAY NAME FOR TUNED MODEL]\"  # @param {type:\"string\"}\n",
    "\n",
    "training_dataset = {\n",
    "    \"gcs_uri\": f\"{BUCKET_URI}/train/sft_train_samples.jsonl\",\n",
    "}\n",
    "\n",
    "validation_dataset = types.TuningValidationDataset(\n",
    "    gcs_uri=f\"{BUCKET_URI}/val/sft_val_samples.jsonl\"\n",
    ")\n",
    "\n",
    "# Tune a model using `tune` method.\n",
    "sft_tuning_job = client.tunings.tune(\n",
    "    base_model=base_model,\n",
    "    training_dataset=training_dataset,\n",
    "    config=types.CreateTuningJobConfig(\n",
    "        tuned_model_display_name=tuned_model_display_name,\n",
    "        validation_dataset=validation_dataset,\n",
    "    ),\n",
    ")"
   ]
  },
  {
   "cell_type": "code",
   "execution_count": null,
   "metadata": {
    "id": "yLlAgVjCNqXg",
    "tags": []
   },
   "outputs": [
    {
     "data": {
      "text/plain": [
       "TuningJob(\n",
       "  base_model='gemini-2.0-flash-001',\n",
       "  create_time=datetime.datetime(2025, 8, 17, 19, 57, 41, 80522, tzinfo=TzInfo(UTC)),\n",
       "  name='projects/15186398363/locations/us-central1/tuningJobs/2586013226399432704',\n",
       "  sdk_http_response=HttpResponse(\n",
       "    headers=<dict len=9>\n",
       "  ),\n",
       "  state=<JobState.JOB_STATE_PENDING: 'JOB_STATE_PENDING'>,\n",
       "  supervised_tuning_spec=SupervisedTuningSpec(\n",
       "    training_dataset_uri='gs://qwiklabs-gcp-01-6bb77f0679ba/train/sft_train_samples.jsonl',\n",
       "    validation_dataset_uri='gs://qwiklabs-gcp-01-6bb77f0679ba/val/sft_val_samples.jsonl'\n",
       "  ),\n",
       "  tuned_model_display_name='[DISPLAY NAME FOR TUNED MODEL]',\n",
       "  update_time=datetime.datetime(2025, 8, 17, 19, 57, 41, 80522, tzinfo=TzInfo(UTC))\n",
       ")"
      ]
     },
     "execution_count": 40,
     "metadata": {},
     "output_type": "execute_result"
    }
   ],
   "source": [
    "tuning_job = client.tunings.get(name=sft_tuning_job.name)\n",
    "tuning_job"
   ]
  },
  {
   "cell_type": "markdown",
   "metadata": {
    "id": "22QZ035C8GJ3"
   },
   "source": [
    "**Note: Tuning time depends on several factors, such as training data size, number of epochs, learning rate multiplier, etc.**"
   ]
  },
  {
   "cell_type": "markdown",
   "metadata": {
    "id": "NN1KX-_WyKeu"
   },
   "source": [
    "<div class=\"alert alert-block alert-warning\">\n",
    "<b>⚠️ It will take ~25 mins for the model tuning job to complete on the provided dataset and set configurations/hyperparameters. ⚠️</b>\n",
    "</div>"
   ]
  },
  {
   "cell_type": "code",
   "execution_count": 41,
   "metadata": {
    "id": "2ma3P6tZ6suI",
    "tags": []
   },
   "outputs": [
    {
     "name": "stdout",
     "output_type": "stream",
     "text": [
      ".............................."
     ]
    },
    {
     "data": {
      "text/html": [
       "\n",
       "        \n",
       "    <link rel=\"stylesheet\" href=\"https://fonts.googleapis.com/icon?family=Material+Icons\">\n",
       "    <style>\n",
       "      .view-vertex-resource,\n",
       "      .view-vertex-resource:hover,\n",
       "      .view-vertex-resource:visited {\n",
       "        position: relative;\n",
       "        display: inline-flex;\n",
       "        flex-direction: row;\n",
       "        height: 32px;\n",
       "        padding: 0 12px;\n",
       "          margin: 4px 18px;\n",
       "        gap: 4px;\n",
       "        border-radius: 4px;\n",
       "\n",
       "        align-items: center;\n",
       "        justify-content: center;\n",
       "        background-color: rgb(255, 255, 255);\n",
       "        color: rgb(51, 103, 214);\n",
       "\n",
       "        font-family: Roboto,\"Helvetica Neue\",sans-serif;\n",
       "        font-size: 13px;\n",
       "        font-weight: 500;\n",
       "        text-transform: uppercase;\n",
       "        text-decoration: none !important;\n",
       "\n",
       "        transition: box-shadow 280ms cubic-bezier(0.4, 0, 0.2, 1) 0s;\n",
       "        box-shadow: 0px 3px 1px -2px rgba(0,0,0,0.2), 0px 2px 2px 0px rgba(0,0,0,0.14), 0px 1px 5px 0px rgba(0,0,0,0.12);\n",
       "      }\n",
       "      .view-vertex-resource:active {\n",
       "        box-shadow: 0px 5px 5px -3px rgba(0,0,0,0.2),0px 8px 10px 1px rgba(0,0,0,0.14),0px 3px 14px 2px rgba(0,0,0,0.12);\n",
       "      }\n",
       "      .view-vertex-resource:active .view-vertex-ripple::before {\n",
       "        position: absolute;\n",
       "        top: 0;\n",
       "        bottom: 0;\n",
       "        left: 0;\n",
       "        right: 0;\n",
       "        border-radius: 4px;\n",
       "        pointer-events: none;\n",
       "\n",
       "        content: '';\n",
       "        background-color: rgb(51, 103, 214);\n",
       "        opacity: 0.12;\n",
       "      }\n",
       "      .view-vertex-icon {\n",
       "        font-size: 18px;\n",
       "      }\n",
       "    </style>\n",
       "  \n",
       "        <a class=\"view-vertex-resource\" id=\"view-vertex-resource-3105f16a-3751-45c6-95d9-34dc45994001\" href=\"#view-view-vertex-resource-3105f16a-3751-45c6-95d9-34dc45994001\">\n",
       "          <span class=\"material-icons view-vertex-icon\">science</span>\n",
       "          <span>View Experiment</span>\n",
       "        </a>\n",
       "        \n",
       "        <script>\n",
       "          (function () {\n",
       "            const link = document.getElementById('view-vertex-resource-3105f16a-3751-45c6-95d9-34dc45994001');\n",
       "            link.addEventListener('click', (e) => {\n",
       "              if (window.google?.colab?.openUrl) {\n",
       "                window.google.colab.openUrl('https://console.cloud.google.com/vertex-ai/experiments/locations/us-central1/experiments/tuning-experiment-20250817130249451596/runs?project=qwiklabs-gcp-01-6bb77f0679ba');\n",
       "              } else {\n",
       "                window.open('https://console.cloud.google.com/vertex-ai/experiments/locations/us-central1/experiments/tuning-experiment-20250817130249451596/runs?project=qwiklabs-gcp-01-6bb77f0679ba', '_blank');\n",
       "              }\n",
       "              e.stopPropagation();\n",
       "              e.preventDefault();\n",
       "            });\n",
       "          })();\n",
       "        </script>\n",
       "    "
      ],
      "text/plain": [
       "<IPython.core.display.HTML object>"
      ]
     },
     "metadata": {},
     "output_type": "display_data"
    },
    {
     "name": "stdout",
     "output_type": "stream",
     "text": [
      "..........................................................................................................\n",
      "CPU times: user 1.97 s, sys: 380 ms, total: 2.35 s\n",
      "Wall time: 23min 29s\n"
     ]
    }
   ],
   "source": [
    "%%time\n",
    "\n",
    "running_states = [\n",
    "    \"JOB_STATE_PENDING\",\n",
    "    \"JOB_STATE_RUNNING\",\n",
    "]\n",
    "\n",
    "while tuning_job.state.name in running_states:\n",
    "    print(\".\", end=\"\")\n",
    "    tuning_job = client.tunings.get(name=tuning_job.name)\n",
    "    time.sleep(10)\n",
    "print()"
   ]
  },
  {
   "cell_type": "code",
   "execution_count": 43,
   "metadata": {
    "id": "e1O1xCBS6spi",
    "tags": []
   },
   "outputs": [
    {
     "name": "stdout",
     "output_type": "stream",
     "text": [
      "Tuned model experiment projects/15186398363/locations/us-central1/metadataStores/default/contexts/tuning-experiment-20250817130249451596\n",
      "Tuned model endpoint resource name: projects/15186398363/locations/us-central1/endpoints/1397174714182402048\n"
     ]
    }
   ],
   "source": [
    "tuned_model = tuning_job.tuned_model.endpoint\n",
    "experiment_name = tuning_job.experiment\n",
    "\n",
    "print(\"Tuned model experiment\", experiment_name)\n",
    "print(\"Tuned model endpoint resource name:\", tuned_model)"
   ]
  },
  {
   "cell_type": "markdown",
   "metadata": {
    "id": "8DzlWWKpbGcu"
   },
   "source": [
    "### Step7 [a]: Tuning and evaluation metrics"
   ]
  },
  {
   "cell_type": "markdown",
   "metadata": {
    "id": "psRbCfzwWz_g"
   },
   "source": [
    "#### Model tuning metrics\n",
    "\n",
    "- `/train_total_loss`: Loss for the tuning dataset at a training step.\n",
    "- `/train_fraction_of_correct_next_step_preds`: The token accuracy at a training step. A single prediction consists of a sequence of tokens. This metric measures the accuracy of the predicted tokens when compared to the ground truth in the tuning dataset.\n",
    "- `/train_num_predictions`: Number of predicted tokens at a training step\n",
    "\n",
    "#### Model evaluation metrics:\n",
    "\n",
    "- `/eval_total_loss`: Loss for the evaluation dataset at an evaluation step.\n",
    "- `/eval_fraction_of_correct_next_step_preds`: The token accuracy at an evaluation step. A single prediction consists of a sequence of tokens. This metric measures the accuracy of the predicted tokens when compared to the ground truth in the evaluation dataset.\n",
    "- `/eval_num_predictions`: Number of predicted tokens at an evaluation step.\n",
    "\n",
    "The metrics visualizations are available after the model tuning job completes. If you don't specify a validation dataset when you create the tuning job, only the visualizations for the tuning metrics are available.\n"
   ]
  },
  {
   "cell_type": "code",
   "execution_count": 44,
   "metadata": {
    "id": "5J1LP3nCbNlg",
    "tags": []
   },
   "outputs": [],
   "source": [
    "# Locate Vertex AI Experiment and Vertex AI Experiment Run\n",
    "experiment = aiplatform.Experiment(experiment_name=experiment_name)\n",
    "filter_str = metadata_utils._make_filter_string(\n",
    "    schema_title=\"system.ExperimentRun\",\n",
    "    parent_contexts=[experiment.resource_name],\n",
    ")\n",
    "experiment_run = context.Context.list(filter_str)[0]"
   ]
  },
  {
   "cell_type": "code",
   "execution_count": 45,
   "metadata": {
    "id": "htBrcQY1bPyh",
    "tags": []
   },
   "outputs": [],
   "source": [
    "# Read data from Tensorboard\n",
    "tensorboard_run_name = f\"{experiment.get_backing_tensorboard_resource().resource_name}/experiments/{experiment.name}/runs/{experiment_run.name.replace(experiment.name, '')[1:]}\"\n",
    "tensorboard_run = aiplatform.TensorboardRun(tensorboard_run_name)\n",
    "metrics = tensorboard_run.read_time_series_data()"
   ]
  },
  {
   "cell_type": "code",
   "execution_count": 46,
   "metadata": {
    "id": "uRZ-UZXcbYj5",
    "tags": []
   },
   "outputs": [],
   "source": [
    "def get_metrics(metric: str = \"/train_total_loss\"):\n",
    "    \"\"\"\n",
    "    Get metrics from Tensorboard.\n",
    "\n",
    "    Args:\n",
    "      metric: metric name, eg. /train_total_loss or /eval_total_loss.\n",
    "    Returns:\n",
    "      steps: list of steps.\n",
    "      steps_loss: list of loss values.\n",
    "    \"\"\"\n",
    "    loss_values = metrics[metric].values\n",
    "    steps_loss = []\n",
    "    steps = []\n",
    "    for loss in loss_values:\n",
    "        steps_loss.append(loss.scalar.value)\n",
    "        steps.append(loss.step)\n",
    "    return steps, steps_loss"
   ]
  },
  {
   "cell_type": "code",
   "execution_count": 47,
   "metadata": {
    "id": "ImR4doLZblaH",
    "tags": []
   },
   "outputs": [],
   "source": [
    "# Get Train and Eval Loss\n",
    "train_loss = get_metrics(metric=\"/train_total_loss\")\n",
    "eval_loss = get_metrics(metric=\"/eval_total_loss\")"
   ]
  },
  {
   "cell_type": "markdown",
   "metadata": {
    "id": "NuN-m1Ikbn15"
   },
   "source": [
    "### Step7 [b]: Plot the metrics"
   ]
  },
  {
   "cell_type": "code",
   "execution_count": 48,
   "metadata": {
    "id": "1KWWkVR5jQkA",
    "tags": []
   },
   "outputs": [
    {
     "data": {
      "application/vnd.plotly.v1+json": {
       "config": {
        "plotlyServerURL": "https://plot.ly"
       },
       "data": [
        {
         "mode": "lines",
         "name": "Train Loss",
         "type": "scatter",
         "x": [
          1,
          2,
          3,
          4,
          5,
          6,
          7,
          8,
          9,
          10,
          11,
          12,
          13,
          14,
          15,
          16,
          17,
          18,
          19,
          20,
          21,
          22,
          23,
          24,
          25,
          26,
          27,
          28,
          29,
          30,
          31,
          32,
          33,
          34,
          35,
          36,
          37,
          38,
          39,
          40,
          41,
          42,
          43,
          44,
          45,
          46,
          47,
          48,
          49,
          50,
          51,
          52,
          53,
          54,
          55,
          56,
          57,
          58,
          59,
          60,
          61,
          62,
          63,
          64,
          65,
          66,
          67,
          68,
          69,
          70,
          71,
          72,
          73,
          74,
          75,
          76,
          77,
          78,
          79,
          80,
          81,
          82,
          83,
          84,
          85,
          86,
          87,
          88,
          89,
          90,
          91,
          92,
          93,
          94,
          95,
          96,
          97,
          98,
          99,
          100,
          101,
          102,
          103,
          104,
          105,
          106,
          107,
          108,
          109,
          110,
          111,
          112,
          113,
          114,
          115,
          116,
          117,
          118,
          119,
          120,
          121,
          122,
          123,
          124,
          125,
          126,
          127,
          128,
          129,
          130,
          131,
          132,
          133,
          134,
          135,
          136,
          137,
          138,
          139,
          140,
          141,
          142,
          143,
          144,
          145,
          146,
          147,
          148,
          149,
          150,
          151,
          152,
          153
         ],
         "xaxis": "x",
         "y": [
          2.8080596923828125,
          2.889220714569092,
          3.060110092163086,
          2.8432650566101074,
          2.823446273803711,
          2.8637397289276123,
          2.669203281402588,
          2.516225814819336,
          2.420433521270752,
          2.3344874382019043,
          1.9823193550109863,
          1.8656744956970215,
          1.8084622621536255,
          1.7883539199829102,
          1.642720103263855,
          1.5430386066436768,
          1.5459799766540527,
          1.5327467918395996,
          1.5152183771133423,
          1.4982656240463257,
          1.3825609683990479,
          1.4757628440856934,
          1.3949652910232544,
          1.3574572801589966,
          1.5155826807022095,
          1.2868804931640625,
          1.2786519527435303,
          1.4279860258102417,
          1.3474788665771484,
          1.2993448972702026,
          1.356298804283142,
          1.2827460765838623,
          1.24299955368042,
          1.257218599319458,
          1.2988157272338867,
          1.317838430404663,
          1.2838222980499268,
          1.3592500686645508,
          1.2026846408843994,
          1.222578525543213,
          1.2143038511276245,
          1.2532566785812378,
          1.2861398458480835,
          1.2495288848876953,
          1.2971575260162354,
          1.257855772972107,
          1.2075291872024536,
          1.1752917766571045,
          1.2865206003189087,
          1.2097017765045166,
          1.1602482795715332,
          1.227942943572998,
          1.2215927839279175,
          1.2497881650924683,
          1.193337321281433,
          1.131040334701538,
          1.2296456098556519,
          1.1190950870513916,
          1.184665322303772,
          1.2744910717010498,
          1.1575660705566406,
          1.1696096658706665,
          1.152915120124817,
          1.1554781198501587,
          1.1982674598693848,
          1.1435637474060059,
          1.1342277526855469,
          1.1062413454055786,
          1.1666409969329834,
          1.1790592670440674,
          1.0880070924758911,
          1.1426544189453125,
          1.1106603145599365,
          1.1194961071014404,
          1.0990768671035767,
          1.1363390684127808,
          1.0861985683441162,
          1.1183264255523682,
          1.1226520538330078,
          1.0276241302490234,
          1.0422252416610718,
          1.065435767173767,
          1.1006397008895874,
          1.0919289588928223,
          0.9642105102539062,
          1.0422255992889404,
          1.117833137512207,
          1.0460283756256104,
          0.9837425947189331,
          0.980297863483429,
          1.0260393619537354,
          1.0739531517028809,
          1.0179882049560547,
          1.0356833934783936,
          0.9554083943367004,
          0.969634473323822,
          0.9820181131362915,
          0.9832621216773987,
          0.9731488227844238,
          0.9464243054389954,
          0.9707622528076172,
          0.9643613696098328,
          0.908933699131012,
          0.9321175217628479,
          0.8844928741455078,
          0.918739378452301,
          0.9173199534416199,
          0.9684213399887085,
          0.8907021880149841,
          0.879557192325592,
          0.8750213384628296,
          0.9487934708595276,
          0.8445078134536743,
          0.8888982534408569,
          0.8784351348876953,
          0.878048837184906,
          0.8576635122299194,
          0.8854538798332214,
          0.7714768648147583,
          0.8152594566345215,
          0.8718460202217102,
          0.7896355390548706,
          0.8118126392364502,
          0.7993298768997192,
          0.7975910305976868,
          0.8298368453979492,
          0.7620789408683777,
          0.7710690498352051,
          0.7668235898017883,
          0.7165750861167908,
          0.7671213150024414,
          0.7739577293395996,
          0.7202797532081604,
          0.7443834543228149,
          0.7512741684913635,
          0.7399439215660095,
          0.7134794592857361,
          0.698101282119751,
          0.68511563539505,
          0.7319962382316589,
          0.7003976106643677,
          0.6806200742721558,
          0.6641737818717957,
          0.6731775999069214,
          0.6608348488807678,
          0.6567632555961609,
          0.6656492948532104,
          0.6536611318588257,
          0.6392284035682678,
          0.6523258686065674,
          0.6318531632423401,
          0.6184303760528564,
          0.6263256669044495
         ],
         "yaxis": "y"
        },
        {
         "mode": "lines",
         "name": "Eval Loss",
         "type": "scatter",
         "x": [
          1,
          10,
          16,
          20,
          30,
          32,
          40,
          48,
          50,
          60,
          64,
          70,
          80,
          90,
          96,
          100,
          110,
          112,
          120,
          128,
          130,
          140,
          144,
          150,
          153
         ],
         "xaxis": "x2",
         "y": [
          3.1221468448638916,
          2.0179591178894043,
          1.553785800933838,
          1.4214272499084473,
          1.3436490297317505,
          1.3288754224777222,
          1.2909256219863892,
          1.2789177894592285,
          1.2800805568695068,
          1.2888462543487549,
          1.295430064201355,
          1.3071577548980713,
          1.3327008485794067,
          1.3670939207077026,
          1.4236451387405396,
          1.4220415353775024,
          1.5085113048553467,
          1.5133932828903198,
          1.5789997577667236,
          1.6290068626403809,
          1.6794425249099731,
          1.7364157438278198,
          1.7943477630615234,
          1.8500686883926392,
          1.9102208614349365
         ],
         "yaxis": "y2"
        }
       ],
       "layout": {
        "annotations": [
         {
          "font": {
           "size": 16
          },
          "showarrow": false,
          "text": "Train Loss",
          "x": 0.225,
          "xanchor": "center",
          "xref": "paper",
          "y": 1,
          "yanchor": "bottom",
          "yref": "paper"
         },
         {
          "font": {
           "size": 16
          },
          "showarrow": false,
          "text": "Eval Loss",
          "x": 0.775,
          "xanchor": "center",
          "xref": "paper",
          "y": 1,
          "yanchor": "bottom",
          "yref": "paper"
         }
        ],
        "autosize": true,
        "template": {
         "data": {
          "bar": [
           {
            "error_x": {
             "color": "#2a3f5f"
            },
            "error_y": {
             "color": "#2a3f5f"
            },
            "marker": {
             "line": {
              "color": "#E5ECF6",
              "width": 0.5
             },
             "pattern": {
              "fillmode": "overlay",
              "size": 10,
              "solidity": 0.2
             }
            },
            "type": "bar"
           }
          ],
          "barpolar": [
           {
            "marker": {
             "line": {
              "color": "#E5ECF6",
              "width": 0.5
             },
             "pattern": {
              "fillmode": "overlay",
              "size": 10,
              "solidity": 0.2
             }
            },
            "type": "barpolar"
           }
          ],
          "carpet": [
           {
            "aaxis": {
             "endlinecolor": "#2a3f5f",
             "gridcolor": "white",
             "linecolor": "white",
             "minorgridcolor": "white",
             "startlinecolor": "#2a3f5f"
            },
            "baxis": {
             "endlinecolor": "#2a3f5f",
             "gridcolor": "white",
             "linecolor": "white",
             "minorgridcolor": "white",
             "startlinecolor": "#2a3f5f"
            },
            "type": "carpet"
           }
          ],
          "choropleth": [
           {
            "colorbar": {
             "outlinewidth": 0,
             "ticks": ""
            },
            "type": "choropleth"
           }
          ],
          "contour": [
           {
            "colorbar": {
             "outlinewidth": 0,
             "ticks": ""
            },
            "colorscale": [
             [
              0,
              "#0d0887"
             ],
             [
              0.1111111111111111,
              "#46039f"
             ],
             [
              0.2222222222222222,
              "#7201a8"
             ],
             [
              0.3333333333333333,
              "#9c179e"
             ],
             [
              0.4444444444444444,
              "#bd3786"
             ],
             [
              0.5555555555555556,
              "#d8576b"
             ],
             [
              0.6666666666666666,
              "#ed7953"
             ],
             [
              0.7777777777777778,
              "#fb9f3a"
             ],
             [
              0.8888888888888888,
              "#fdca26"
             ],
             [
              1,
              "#f0f921"
             ]
            ],
            "type": "contour"
           }
          ],
          "contourcarpet": [
           {
            "colorbar": {
             "outlinewidth": 0,
             "ticks": ""
            },
            "type": "contourcarpet"
           }
          ],
          "heatmap": [
           {
            "colorbar": {
             "outlinewidth": 0,
             "ticks": ""
            },
            "colorscale": [
             [
              0,
              "#0d0887"
             ],
             [
              0.1111111111111111,
              "#46039f"
             ],
             [
              0.2222222222222222,
              "#7201a8"
             ],
             [
              0.3333333333333333,
              "#9c179e"
             ],
             [
              0.4444444444444444,
              "#bd3786"
             ],
             [
              0.5555555555555556,
              "#d8576b"
             ],
             [
              0.6666666666666666,
              "#ed7953"
             ],
             [
              0.7777777777777778,
              "#fb9f3a"
             ],
             [
              0.8888888888888888,
              "#fdca26"
             ],
             [
              1,
              "#f0f921"
             ]
            ],
            "type": "heatmap"
           }
          ],
          "histogram": [
           {
            "marker": {
             "pattern": {
              "fillmode": "overlay",
              "size": 10,
              "solidity": 0.2
             }
            },
            "type": "histogram"
           }
          ],
          "histogram2d": [
           {
            "colorbar": {
             "outlinewidth": 0,
             "ticks": ""
            },
            "colorscale": [
             [
              0,
              "#0d0887"
             ],
             [
              0.1111111111111111,
              "#46039f"
             ],
             [
              0.2222222222222222,
              "#7201a8"
             ],
             [
              0.3333333333333333,
              "#9c179e"
             ],
             [
              0.4444444444444444,
              "#bd3786"
             ],
             [
              0.5555555555555556,
              "#d8576b"
             ],
             [
              0.6666666666666666,
              "#ed7953"
             ],
             [
              0.7777777777777778,
              "#fb9f3a"
             ],
             [
              0.8888888888888888,
              "#fdca26"
             ],
             [
              1,
              "#f0f921"
             ]
            ],
            "type": "histogram2d"
           }
          ],
          "histogram2dcontour": [
           {
            "colorbar": {
             "outlinewidth": 0,
             "ticks": ""
            },
            "colorscale": [
             [
              0,
              "#0d0887"
             ],
             [
              0.1111111111111111,
              "#46039f"
             ],
             [
              0.2222222222222222,
              "#7201a8"
             ],
             [
              0.3333333333333333,
              "#9c179e"
             ],
             [
              0.4444444444444444,
              "#bd3786"
             ],
             [
              0.5555555555555556,
              "#d8576b"
             ],
             [
              0.6666666666666666,
              "#ed7953"
             ],
             [
              0.7777777777777778,
              "#fb9f3a"
             ],
             [
              0.8888888888888888,
              "#fdca26"
             ],
             [
              1,
              "#f0f921"
             ]
            ],
            "type": "histogram2dcontour"
           }
          ],
          "mesh3d": [
           {
            "colorbar": {
             "outlinewidth": 0,
             "ticks": ""
            },
            "type": "mesh3d"
           }
          ],
          "parcoords": [
           {
            "line": {
             "colorbar": {
              "outlinewidth": 0,
              "ticks": ""
             }
            },
            "type": "parcoords"
           }
          ],
          "pie": [
           {
            "automargin": true,
            "type": "pie"
           }
          ],
          "scatter": [
           {
            "fillpattern": {
             "fillmode": "overlay",
             "size": 10,
             "solidity": 0.2
            },
            "type": "scatter"
           }
          ],
          "scatter3d": [
           {
            "line": {
             "colorbar": {
              "outlinewidth": 0,
              "ticks": ""
             }
            },
            "marker": {
             "colorbar": {
              "outlinewidth": 0,
              "ticks": ""
             }
            },
            "type": "scatter3d"
           }
          ],
          "scattercarpet": [
           {
            "marker": {
             "colorbar": {
              "outlinewidth": 0,
              "ticks": ""
             }
            },
            "type": "scattercarpet"
           }
          ],
          "scattergeo": [
           {
            "marker": {
             "colorbar": {
              "outlinewidth": 0,
              "ticks": ""
             }
            },
            "type": "scattergeo"
           }
          ],
          "scattergl": [
           {
            "marker": {
             "colorbar": {
              "outlinewidth": 0,
              "ticks": ""
             }
            },
            "type": "scattergl"
           }
          ],
          "scattermap": [
           {
            "marker": {
             "colorbar": {
              "outlinewidth": 0,
              "ticks": ""
             }
            },
            "type": "scattermap"
           }
          ],
          "scattermapbox": [
           {
            "marker": {
             "colorbar": {
              "outlinewidth": 0,
              "ticks": ""
             }
            },
            "type": "scattermapbox"
           }
          ],
          "scatterpolar": [
           {
            "marker": {
             "colorbar": {
              "outlinewidth": 0,
              "ticks": ""
             }
            },
            "type": "scatterpolar"
           }
          ],
          "scatterpolargl": [
           {
            "marker": {
             "colorbar": {
              "outlinewidth": 0,
              "ticks": ""
             }
            },
            "type": "scatterpolargl"
           }
          ],
          "scatterternary": [
           {
            "marker": {
             "colorbar": {
              "outlinewidth": 0,
              "ticks": ""
             }
            },
            "type": "scatterternary"
           }
          ],
          "surface": [
           {
            "colorbar": {
             "outlinewidth": 0,
             "ticks": ""
            },
            "colorscale": [
             [
              0,
              "#0d0887"
             ],
             [
              0.1111111111111111,
              "#46039f"
             ],
             [
              0.2222222222222222,
              "#7201a8"
             ],
             [
              0.3333333333333333,
              "#9c179e"
             ],
             [
              0.4444444444444444,
              "#bd3786"
             ],
             [
              0.5555555555555556,
              "#d8576b"
             ],
             [
              0.6666666666666666,
              "#ed7953"
             ],
             [
              0.7777777777777778,
              "#fb9f3a"
             ],
             [
              0.8888888888888888,
              "#fdca26"
             ],
             [
              1,
              "#f0f921"
             ]
            ],
            "type": "surface"
           }
          ],
          "table": [
           {
            "cells": {
             "fill": {
              "color": "#EBF0F8"
             },
             "line": {
              "color": "white"
             }
            },
            "header": {
             "fill": {
              "color": "#C8D4E3"
             },
             "line": {
              "color": "white"
             }
            },
            "type": "table"
           }
          ]
         },
         "layout": {
          "annotationdefaults": {
           "arrowcolor": "#2a3f5f",
           "arrowhead": 0,
           "arrowwidth": 1
          },
          "autotypenumbers": "strict",
          "coloraxis": {
           "colorbar": {
            "outlinewidth": 0,
            "ticks": ""
           }
          },
          "colorscale": {
           "diverging": [
            [
             0,
             "#8e0152"
            ],
            [
             0.1,
             "#c51b7d"
            ],
            [
             0.2,
             "#de77ae"
            ],
            [
             0.3,
             "#f1b6da"
            ],
            [
             0.4,
             "#fde0ef"
            ],
            [
             0.5,
             "#f7f7f7"
            ],
            [
             0.6,
             "#e6f5d0"
            ],
            [
             0.7,
             "#b8e186"
            ],
            [
             0.8,
             "#7fbc41"
            ],
            [
             0.9,
             "#4d9221"
            ],
            [
             1,
             "#276419"
            ]
           ],
           "sequential": [
            [
             0,
             "#0d0887"
            ],
            [
             0.1111111111111111,
             "#46039f"
            ],
            [
             0.2222222222222222,
             "#7201a8"
            ],
            [
             0.3333333333333333,
             "#9c179e"
            ],
            [
             0.4444444444444444,
             "#bd3786"
            ],
            [
             0.5555555555555556,
             "#d8576b"
            ],
            [
             0.6666666666666666,
             "#ed7953"
            ],
            [
             0.7777777777777778,
             "#fb9f3a"
            ],
            [
             0.8888888888888888,
             "#fdca26"
            ],
            [
             1,
             "#f0f921"
            ]
           ],
           "sequentialminus": [
            [
             0,
             "#0d0887"
            ],
            [
             0.1111111111111111,
             "#46039f"
            ],
            [
             0.2222222222222222,
             "#7201a8"
            ],
            [
             0.3333333333333333,
             "#9c179e"
            ],
            [
             0.4444444444444444,
             "#bd3786"
            ],
            [
             0.5555555555555556,
             "#d8576b"
            ],
            [
             0.6666666666666666,
             "#ed7953"
            ],
            [
             0.7777777777777778,
             "#fb9f3a"
            ],
            [
             0.8888888888888888,
             "#fdca26"
            ],
            [
             1,
             "#f0f921"
            ]
           ]
          },
          "colorway": [
           "#636efa",
           "#EF553B",
           "#00cc96",
           "#ab63fa",
           "#FFA15A",
           "#19d3f3",
           "#FF6692",
           "#B6E880",
           "#FF97FF",
           "#FECB52"
          ],
          "font": {
           "color": "#2a3f5f"
          },
          "geo": {
           "bgcolor": "white",
           "lakecolor": "white",
           "landcolor": "#E5ECF6",
           "showlakes": true,
           "showland": true,
           "subunitcolor": "white"
          },
          "hoverlabel": {
           "align": "left"
          },
          "hovermode": "closest",
          "mapbox": {
           "style": "light"
          },
          "paper_bgcolor": "white",
          "plot_bgcolor": "#E5ECF6",
          "polar": {
           "angularaxis": {
            "gridcolor": "white",
            "linecolor": "white",
            "ticks": ""
           },
           "bgcolor": "#E5ECF6",
           "radialaxis": {
            "gridcolor": "white",
            "linecolor": "white",
            "ticks": ""
           }
          },
          "scene": {
           "xaxis": {
            "backgroundcolor": "#E5ECF6",
            "gridcolor": "white",
            "gridwidth": 2,
            "linecolor": "white",
            "showbackground": true,
            "ticks": "",
            "zerolinecolor": "white"
           },
           "yaxis": {
            "backgroundcolor": "#E5ECF6",
            "gridcolor": "white",
            "gridwidth": 2,
            "linecolor": "white",
            "showbackground": true,
            "ticks": "",
            "zerolinecolor": "white"
           },
           "zaxis": {
            "backgroundcolor": "#E5ECF6",
            "gridcolor": "white",
            "gridwidth": 2,
            "linecolor": "white",
            "showbackground": true,
            "ticks": "",
            "zerolinecolor": "white"
           }
          },
          "shapedefaults": {
           "line": {
            "color": "#2a3f5f"
           }
          },
          "ternary": {
           "aaxis": {
            "gridcolor": "white",
            "linecolor": "white",
            "ticks": ""
           },
           "baxis": {
            "gridcolor": "white",
            "linecolor": "white",
            "ticks": ""
           },
           "bgcolor": "#E5ECF6",
           "caxis": {
            "gridcolor": "white",
            "linecolor": "white",
            "ticks": ""
           }
          },
          "title": {
           "x": 0.05
          },
          "xaxis": {
           "automargin": true,
           "gridcolor": "white",
           "linecolor": "white",
           "ticks": "",
           "title": {
            "standoff": 15
           },
           "zerolinecolor": "white",
           "zerolinewidth": 2
          },
          "yaxis": {
           "automargin": true,
           "gridcolor": "white",
           "linecolor": "white",
           "ticks": "",
           "title": {
            "standoff": 15
           },
           "zerolinecolor": "white",
           "zerolinewidth": 2
          }
         }
        },
        "title": {
         "text": "Train and Eval Loss"
        },
        "xaxis": {
         "anchor": "y",
         "autorange": true,
         "domain": [
          0,
          0.45
         ],
         "range": [
          1,
          153
         ],
         "title": {
          "text": "Steps"
         },
         "type": "linear"
        },
        "xaxis2": {
         "anchor": "y2",
         "autorange": true,
         "domain": [
          0.55,
          1
         ],
         "range": [
          1,
          153
         ],
         "title": {
          "text": "Steps"
         },
         "type": "linear"
        },
        "yaxis": {
         "anchor": "x",
         "autorange": true,
         "domain": [
          0,
          1
         ],
         "range": [
          0.4827815029356215,
          3.195758965280321
         ],
         "title": {
          "text": "Loss"
         },
         "type": "linear"
        },
        "yaxis2": {
         "anchor": "x2",
         "autorange": true,
         "domain": [
          0,
          1
         ],
         "range": [
          1.1765161752700806,
          3.2245484590530396
         ],
         "title": {
          "text": "Loss"
         },
         "type": "linear"
        }
       }
      },
      "image/png": "[encoded data removed]"
     },
     "metadata": {},
     "output_type": "display_data"
    }
   ],
   "source": [
    "# Plot the train and eval loss metrics using Plotly python library\n",
    "\n",
    "fig = make_subplots(\n",
    "    rows=1, cols=2, shared_xaxes=True, subplot_titles=(\"Train Loss\", \"Eval Loss\")\n",
    ")\n",
    "\n",
    "# Add traces\n",
    "fig.add_trace(\n",
    "    go.Scatter(x=train_loss[0], y=train_loss[1], name=\"Train Loss\", mode=\"lines\"),\n",
    "    row=1,\n",
    "    col=1,\n",
    ")\n",
    "fig.add_trace(\n",
    "    go.Scatter(x=eval_loss[0], y=eval_loss[1], name=\"Eval Loss\", mode=\"lines\"),\n",
    "    row=1,\n",
    "    col=2,\n",
    ")\n",
    "\n",
    "# Add figure title\n",
    "fig.update_layout(title=\"Train and Eval Loss\", xaxis_title=\"Steps\", yaxis_title=\"Loss\")\n",
    "\n",
    "# Set x-axis title\n",
    "fig.update_xaxes(title_text=\"Steps\")\n",
    "\n",
    "# Set y-axes titles\n",
    "fig.update_yaxes(title_text=\"Loss\")\n",
    "\n",
    "# Show plot\n",
    "fig.show()"
   ]
  },
  {
   "cell_type": "markdown",
   "metadata": {
    "id": "KY-eiVk0FI-M"
   },
   "source": [
    "## Step8: Load the Tuned Model\n",
    "\n",
    " - Load the fine-tuned model using `GenerativeModel` class with the tuning job model endpoint name.\n",
    "\n",
    " - Test the tuned model with the following prompt"
   ]
  },
  {
   "cell_type": "code",
   "execution_count": 50,
   "metadata": {
    "id": "GiJ831VMDQNy",
    "tags": []
   },
   "outputs": [
    {
     "data": {
      "text/plain": [
       "'\\nHold your arm out flat in front of you with your elbow bent. The top of your forearm should form a level surface. Apply a line of lotion from the back of your hand up your arm almost to the crease of your elbow. Squeeze lotion onto both forearms.  Do not rub the lotion into your arms, rather let it sit on your arm in the line you squeezed. You can use as much or as little lotion as you feel is necessary to cover your back completely. Bend your elbows and reach both of your arms behind you, placing the lotion covered forearms against your back. Depending on how flexible you are, this may hurt a little. It might be easier to place one arm behind your back at a time. If you have shoulder pain or are not very flexible, this method may not work well for you. Rub your forearms and the backs of your hands up and down your back like windshield wipers covering as much of your back as you can. You can use your left arm first to cover your left side and then place your right arm behind and use it to cover the right side of your back. Repeat this process as necessary if you don’t feel like you got enough lotion on your back.\\n\\nProvide a summary of the article in two or three sentences:\\n\\n\\n'"
      ]
     },
     "execution_count": 50,
     "metadata": {},
     "output_type": "execute_result"
    }
   ],
   "source": [
    "prompt"
   ]
  },
  {
   "cell_type": "code",
   "execution_count": 51,
   "metadata": {
    "id": "65SYYpaNT4QR",
    "tags": []
   },
   "outputs": [
    {
     "name": "stdout",
     "output_type": "stream",
     "text": [
      "***Testing***\n",
      "Squeeze a line of lotion on your forearm. Place both forearms behind you. Rub your back.\n"
     ]
    }
   ],
   "source": [
    "if True:\n",
    "    # Test with the loaded model.\n",
    "    print(\"***Testing***\")\n",
    "    print(\n",
    "        client.models.generate_content(\n",
    "            model=tuned_model, contents=prompt, config=config\n",
    "        ).text\n",
    "    )\n",
    "else:\n",
    "    print(\"State:\", tuning_job.state.name.state)\n",
    "    print(\"Error:\", tuning_job.state.name.error)"
   ]
  },
  {
   "cell_type": "markdown",
   "metadata": {
    "id": "d54ce2b88af3"
   },
   "source": [
    "- We can clearly see the difference between summary generated pre and post tuning, as tuned summary is more inline with the ground truth format (**Note**: Pre and Post outputs, might vary based on the set parameters.)\n",
    "\n",
    "  - *Pre*: `This article describes a method for applying lotion to your back using your forearms as applicators. By squeezing lotion onto your forearms and then reaching behind your back, you can use a windshield wiper motion to spread the lotion across your back. The method acknowledges potential limitations for those with shoulder pain or limited flexibility.`\n",
    "  - *Post*: `Squeeze a line of lotion on your forearm. Reach behind you and rub your back.`\n",
    "  - *Ground Truth*:` Squeeze a line of lotion onto the tops of both forearms and the backs of your hands. Place your arms behind your back. Move your arms in a windshield wiper motion.`"
   ]
  },
  {
   "cell_type": "markdown",
   "metadata": {
    "id": "oYsIpFakU4CC"
   },
   "source": [
    "## Step9: Evaluation post model tuning"
   ]
  },
  {
   "cell_type": "markdown",
   "metadata": {
    "id": "mwlCcKPZ62Of"
   },
   "source": [
    "<div class=\"alert alert-block alert-warning\">\n",
    "<b>⚠️ It will take ~5 mins for the evaluation on the provided batch. ⚠️</b>\n",
    "</div>"
   ]
  },
  {
   "cell_type": "code",
   "execution_count": 52,
   "metadata": {
    "id": "KrBk1amTU3r2",
    "tags": []
   },
   "outputs": [
    {
     "name": "stderr",
     "output_type": "stream",
     "text": [
      "100%|██████████| 100/100 [01:33<00:00,  1.07it/s]\n"
     ]
    }
   ],
   "source": [
    "# run evaluation\n",
    "evaluation_df_post_tuning = run_evaluation(tuned_model, corpus_batch)"
   ]
  },
  {
   "cell_type": "code",
   "execution_count": 53,
   "metadata": {
    "id": "ONnlEkSex-iO",
    "tags": []
   },
   "outputs": [
    {
     "data": {
      "text/html": [
       "<div>\n",
       "<style scoped>\n",
       "    .dataframe tbody tr th:only-of-type {\n",
       "        vertical-align: middle;\n",
       "    }\n",
       "\n",
       "    .dataframe tbody tr th {\n",
       "        vertical-align: top;\n",
       "    }\n",
       "\n",
       "    .dataframe thead th {\n",
       "        text-align: right;\n",
       "    }\n",
       "</style>\n",
       "<table border=\"1\" class=\"dataframe\">\n",
       "  <thead>\n",
       "    <tr style=\"text-align: right;\">\n",
       "      <th></th>\n",
       "      <th>document</th>\n",
       "      <th>summary</th>\n",
       "      <th>generated_summary</th>\n",
       "      <th>scores</th>\n",
       "      <th>rouge1_precision</th>\n",
       "      <th>rouge1_recall</th>\n",
       "      <th>rouge1_fmeasure</th>\n",
       "      <th>rouge2_precision</th>\n",
       "      <th>rouge2_recall</th>\n",
       "      <th>rouge2_fmeasure</th>\n",
       "      <th>rougeL_precision</th>\n",
       "      <th>rougeL_recall</th>\n",
       "      <th>rougeL_fmeasure</th>\n",
       "    </tr>\n",
       "  </thead>\n",
       "  <tbody>\n",
       "    <tr>\n",
       "      <th>0</th>\n",
       "      <td>Hold your arm out flat in front of you with yo...</td>\n",
       "      <td>Squeeze a line of lotion onto the tops of both...</td>\n",
       "      <td>Squeeze a line of lotion on your forearm. Reac...</td>\n",
       "      <td>{'rouge1': (0.5384615384615384, 0.451612903225...</td>\n",
       "      <td>0.538462</td>\n",
       "      <td>0.451613</td>\n",
       "      <td>0.491228</td>\n",
       "      <td>0.200000</td>\n",
       "      <td>0.166667</td>\n",
       "      <td>0.181818</td>\n",
       "      <td>0.423077</td>\n",
       "      <td>0.354839</td>\n",
       "      <td>0.385965</td>\n",
       "    </tr>\n",
       "    <tr>\n",
       "      <th>1</th>\n",
       "      <td>As you continue playing, surviving becomes pai...</td>\n",
       "      <td>Make a Crock Pot for better food. Create an Al...</td>\n",
       "      <td>Craft a Crock Pot. Create an Alchemy Engine. M...</td>\n",
       "      <td>{'rouge1': (0.7333333333333333, 0.611111111111...</td>\n",
       "      <td>0.733333</td>\n",
       "      <td>0.611111</td>\n",
       "      <td>0.666667</td>\n",
       "      <td>0.500000</td>\n",
       "      <td>0.411765</td>\n",
       "      <td>0.451613</td>\n",
       "      <td>0.666667</td>\n",
       "      <td>0.555556</td>\n",
       "      <td>0.606061</td>\n",
       "    </tr>\n",
       "    <tr>\n",
       "      <th>2</th>\n",
       "      <td>Go to https://www.4kdownload.com/products/prod...</td>\n",
       "      <td>Download the 4K Video Downloader setup file. I...</td>\n",
       "      <td>Go to the 4K Video Downloader page and downloa...</td>\n",
       "      <td>{'rouge1': (0.7755102040816326, 0.644067796610...</td>\n",
       "      <td>0.775510</td>\n",
       "      <td>0.644068</td>\n",
       "      <td>0.703704</td>\n",
       "      <td>0.541667</td>\n",
       "      <td>0.448276</td>\n",
       "      <td>0.490566</td>\n",
       "      <td>0.632653</td>\n",
       "      <td>0.525424</td>\n",
       "      <td>0.574074</td>\n",
       "    </tr>\n",
       "    <tr>\n",
       "      <th>3</th>\n",
       "      <td>You should know that vaginoplasty can treat a ...</td>\n",
       "      <td>Consider the health of your bladder. Find a so...</td>\n",
       "      <td>Consider vaginoplasty for a cystocele. Think a...</td>\n",
       "      <td>{'rouge1': (0.3548387096774194, 0.392857142857...</td>\n",
       "      <td>0.354839</td>\n",
       "      <td>0.392857</td>\n",
       "      <td>0.372881</td>\n",
       "      <td>0.066667</td>\n",
       "      <td>0.074074</td>\n",
       "      <td>0.070175</td>\n",
       "      <td>0.258065</td>\n",
       "      <td>0.285714</td>\n",
       "      <td>0.271186</td>\n",
       "    </tr>\n",
       "    <tr>\n",
       "      <th>4</th>\n",
       "      <td>If you want to gather data on the frequency of...</td>\n",
       "      <td>Gather data to be graphed. Choose your range b...</td>\n",
       "      <td>Decide on your bins. Sort the data and count t...</td>\n",
       "      <td>{'rouge1': (0.6, 0.5217391304347826, 0.5581395...</td>\n",
       "      <td>0.600000</td>\n",
       "      <td>0.521739</td>\n",
       "      <td>0.558140</td>\n",
       "      <td>0.210526</td>\n",
       "      <td>0.181818</td>\n",
       "      <td>0.195122</td>\n",
       "      <td>0.550000</td>\n",
       "      <td>0.478261</td>\n",
       "      <td>0.511628</td>\n",
       "    </tr>\n",
       "  </tbody>\n",
       "</table>\n",
       "</div>"
      ],
      "text/plain": [
       "                                            document  \\\n",
       "0  Hold your arm out flat in front of you with yo...   \n",
       "1  As you continue playing, surviving becomes pai...   \n",
       "2  Go to https://www.4kdownload.com/products/prod...   \n",
       "3  You should know that vaginoplasty can treat a ...   \n",
       "4  If you want to gather data on the frequency of...   \n",
       "\n",
       "                                             summary  \\\n",
       "0  Squeeze a line of lotion onto the tops of both...   \n",
       "1  Make a Crock Pot for better food. Create an Al...   \n",
       "2  Download the 4K Video Downloader setup file. I...   \n",
       "3  Consider the health of your bladder. Find a so...   \n",
       "4  Gather data to be graphed. Choose your range b...   \n",
       "\n",
       "                                   generated_summary  \\\n",
       "0  Squeeze a line of lotion on your forearm. Reac...   \n",
       "1  Craft a Crock Pot. Create an Alchemy Engine. M...   \n",
       "2  Go to the 4K Video Downloader page and downloa...   \n",
       "3  Consider vaginoplasty for a cystocele. Think a...   \n",
       "4  Decide on your bins. Sort the data and count t...   \n",
       "\n",
       "                                              scores  rouge1_precision  \\\n",
       "0  {'rouge1': (0.5384615384615384, 0.451612903225...          0.538462   \n",
       "1  {'rouge1': (0.7333333333333333, 0.611111111111...          0.733333   \n",
       "2  {'rouge1': (0.7755102040816326, 0.644067796610...          0.775510   \n",
       "3  {'rouge1': (0.3548387096774194, 0.392857142857...          0.354839   \n",
       "4  {'rouge1': (0.6, 0.5217391304347826, 0.5581395...          0.600000   \n",
       "\n",
       "   rouge1_recall  rouge1_fmeasure  rouge2_precision  rouge2_recall  \\\n",
       "0       0.451613         0.491228          0.200000       0.166667   \n",
       "1       0.611111         0.666667          0.500000       0.411765   \n",
       "2       0.644068         0.703704          0.541667       0.448276   \n",
       "3       0.392857         0.372881          0.066667       0.074074   \n",
       "4       0.521739         0.558140          0.210526       0.181818   \n",
       "\n",
       "   rouge2_fmeasure  rougeL_precision  rougeL_recall  rougeL_fmeasure  \n",
       "0         0.181818          0.423077       0.354839         0.385965  \n",
       "1         0.451613          0.666667       0.555556         0.606061  \n",
       "2         0.490566          0.632653       0.525424         0.574074  \n",
       "3         0.070175          0.258065       0.285714         0.271186  \n",
       "4         0.195122          0.550000       0.478261         0.511628  "
      ]
     },
     "execution_count": 53,
     "metadata": {},
     "output_type": "execute_result"
    }
   ],
   "source": [
    "evaluation_df_post_tuning.head()"
   ]
  },
  {
   "cell_type": "code",
   "execution_count": 54,
   "metadata": {
    "id": "xDJrlD8O0B4d",
    "tags": []
   },
   "outputs": [],
   "source": [
    "evaluation_df_post_tuning_stats = evaluation_df_post_tuning.dropna().describe()"
   ]
  },
  {
   "cell_type": "code",
   "execution_count": 55,
   "metadata": {
    "id": "c24-mE12y4Nm",
    "tags": []
   },
   "outputs": [
    {
     "data": {
      "text/html": [
       "<div>\n",
       "<style scoped>\n",
       "    .dataframe tbody tr th:only-of-type {\n",
       "        vertical-align: middle;\n",
       "    }\n",
       "\n",
       "    .dataframe tbody tr th {\n",
       "        vertical-align: top;\n",
       "    }\n",
       "\n",
       "    .dataframe thead th {\n",
       "        text-align: right;\n",
       "    }\n",
       "</style>\n",
       "<table border=\"1\" class=\"dataframe\">\n",
       "  <thead>\n",
       "    <tr style=\"text-align: right;\">\n",
       "      <th></th>\n",
       "      <th>rouge1_precision</th>\n",
       "      <th>rouge1_recall</th>\n",
       "      <th>rouge1_fmeasure</th>\n",
       "      <th>rouge2_precision</th>\n",
       "      <th>rouge2_recall</th>\n",
       "      <th>rouge2_fmeasure</th>\n",
       "      <th>rougeL_precision</th>\n",
       "      <th>rougeL_recall</th>\n",
       "      <th>rougeL_fmeasure</th>\n",
       "    </tr>\n",
       "  </thead>\n",
       "  <tbody>\n",
       "    <tr>\n",
       "      <th>count</th>\n",
       "      <td>100.000000</td>\n",
       "      <td>100.000000</td>\n",
       "      <td>100.000000</td>\n",
       "      <td>100.000000</td>\n",
       "      <td>100.000000</td>\n",
       "      <td>100.000000</td>\n",
       "      <td>100.000000</td>\n",
       "      <td>100.000000</td>\n",
       "      <td>100.000000</td>\n",
       "    </tr>\n",
       "    <tr>\n",
       "      <th>mean</th>\n",
       "      <td>0.493951</td>\n",
       "      <td>0.458216</td>\n",
       "      <td>0.455000</td>\n",
       "      <td>0.214626</td>\n",
       "      <td>0.202430</td>\n",
       "      <td>0.199734</td>\n",
       "      <td>0.416691</td>\n",
       "      <td>0.386909</td>\n",
       "      <td>0.383445</td>\n",
       "    </tr>\n",
       "    <tr>\n",
       "      <th>std</th>\n",
       "      <td>0.172775</td>\n",
       "      <td>0.175645</td>\n",
       "      <td>0.151141</td>\n",
       "      <td>0.142568</td>\n",
       "      <td>0.137518</td>\n",
       "      <td>0.128955</td>\n",
       "      <td>0.165688</td>\n",
       "      <td>0.163739</td>\n",
       "      <td>0.143555</td>\n",
       "    </tr>\n",
       "    <tr>\n",
       "      <th>min</th>\n",
       "      <td>0.000000</td>\n",
       "      <td>0.000000</td>\n",
       "      <td>0.000000</td>\n",
       "      <td>0.000000</td>\n",
       "      <td>0.000000</td>\n",
       "      <td>0.000000</td>\n",
       "      <td>0.000000</td>\n",
       "      <td>0.000000</td>\n",
       "      <td>0.000000</td>\n",
       "    </tr>\n",
       "    <tr>\n",
       "      <th>25%</th>\n",
       "      <td>0.380542</td>\n",
       "      <td>0.378739</td>\n",
       "      <td>0.369939</td>\n",
       "      <td>0.111111</td>\n",
       "      <td>0.103947</td>\n",
       "      <td>0.089921</td>\n",
       "      <td>0.300000</td>\n",
       "      <td>0.303261</td>\n",
       "      <td>0.288296</td>\n",
       "    </tr>\n",
       "    <tr>\n",
       "      <th>50%</th>\n",
       "      <td>0.488095</td>\n",
       "      <td>0.454545</td>\n",
       "      <td>0.475595</td>\n",
       "      <td>0.194600</td>\n",
       "      <td>0.189833</td>\n",
       "      <td>0.181818</td>\n",
       "      <td>0.395652</td>\n",
       "      <td>0.378022</td>\n",
       "      <td>0.380366</td>\n",
       "    </tr>\n",
       "    <tr>\n",
       "      <th>75%</th>\n",
       "      <td>0.626157</td>\n",
       "      <td>0.557796</td>\n",
       "      <td>0.551932</td>\n",
       "      <td>0.295588</td>\n",
       "      <td>0.285714</td>\n",
       "      <td>0.276341</td>\n",
       "      <td>0.540210</td>\n",
       "      <td>0.480000</td>\n",
       "      <td>0.476546</td>\n",
       "    </tr>\n",
       "    <tr>\n",
       "      <th>max</th>\n",
       "      <td>0.846154</td>\n",
       "      <td>0.857143</td>\n",
       "      <td>0.818182</td>\n",
       "      <td>0.636364</td>\n",
       "      <td>0.705882</td>\n",
       "      <td>0.585366</td>\n",
       "      <td>0.833333</td>\n",
       "      <td>0.833333</td>\n",
       "      <td>0.727273</td>\n",
       "    </tr>\n",
       "  </tbody>\n",
       "</table>\n",
       "</div>"
      ],
      "text/plain": [
       "       rouge1_precision  rouge1_recall  rouge1_fmeasure  rouge2_precision  \\\n",
       "count        100.000000     100.000000       100.000000        100.000000   \n",
       "mean           0.493951       0.458216         0.455000          0.214626   \n",
       "std            0.172775       0.175645         0.151141          0.142568   \n",
       "min            0.000000       0.000000         0.000000          0.000000   \n",
       "25%            0.380542       0.378739         0.369939          0.111111   \n",
       "50%            0.488095       0.454545         0.475595          0.194600   \n",
       "75%            0.626157       0.557796         0.551932          0.295588   \n",
       "max            0.846154       0.857143         0.818182          0.636364   \n",
       "\n",
       "       rouge2_recall  rouge2_fmeasure  rougeL_precision  rougeL_recall  \\\n",
       "count     100.000000       100.000000        100.000000     100.000000   \n",
       "mean        0.202430         0.199734          0.416691       0.386909   \n",
       "std         0.137518         0.128955          0.165688       0.163739   \n",
       "min         0.000000         0.000000          0.000000       0.000000   \n",
       "25%         0.103947         0.089921          0.300000       0.303261   \n",
       "50%         0.189833         0.181818          0.395652       0.378022   \n",
       "75%         0.285714         0.276341          0.540210       0.480000   \n",
       "max         0.705882         0.585366          0.833333       0.833333   \n",
       "\n",
       "       rougeL_fmeasure  \n",
       "count       100.000000  \n",
       "mean          0.383445  \n",
       "std           0.143555  \n",
       "min           0.000000  \n",
       "25%           0.288296  \n",
       "50%           0.380366  \n",
       "75%           0.476546  \n",
       "max           0.727273  "
      ]
     },
     "execution_count": 55,
     "metadata": {},
     "output_type": "execute_result"
    }
   ],
   "source": [
    "# Statistics of the evaluation dataframe post model tuning.\n",
    "evaluation_df_post_tuning_stats"
   ]
  },
  {
   "cell_type": "code",
   "execution_count": 56,
   "metadata": {
    "id": "9VU-8Ql2bqlo",
    "tags": []
   },
   "outputs": [
    {
     "name": "stdout",
     "output_type": "stream",
     "text": [
      "Mean rougeL_precision is 0.4166907119833829\n"
     ]
    }
   ],
   "source": [
    "print(\n",
    "    \"Mean rougeL_precision is\", evaluation_df_post_tuning_stats.rougeL_precision[\"mean\"]\n",
    ")"
   ]
  },
  {
   "cell_type": "markdown",
   "metadata": {
    "id": "4Q8hN7SE08-X"
   },
   "source": [
    "#### Improvement"
   ]
  },
  {
   "cell_type": "code",
   "execution_count": 57,
   "metadata": {
    "id": "j0ctGzdnznYO",
    "tags": []
   },
   "outputs": [
    {
     "name": "stdout",
     "output_type": "stream",
     "text": [
      "Model tuning has improved the rougeL_precision by 179.99% (result might differ based on each tuning iteration)\n"
     ]
    }
   ],
   "source": [
    "improvement = round(\n",
    "    (\n",
    "        (\n",
    "            evaluation_df_post_tuning_stats.rougeL_precision[\"mean\"]\n",
    "            - evaluation_df_stats.rougeL_precision[\"mean\"]\n",
    "        )\n",
    "        / evaluation_df_stats.rougeL_precision[\"mean\"]\n",
    "    )\n",
    "    * 100,\n",
    "    2,\n",
    ")\n",
    "print(\n",
    "    f\"Model tuning has improved the rougeL_precision by {improvement}% (result might differ based on each tuning iteration)\"\n",
    ")"
   ]
  },
  {
   "cell_type": "markdown",
   "metadata": {
    "id": "LQkpAMnpw-jH"
   },
   "source": [
    "## Conclusion"
   ]
  },
  {
   "cell_type": "markdown",
   "metadata": {
    "id": "Esra6YPgxBiV"
   },
   "source": [
    "Performance could be further improved:\n",
    "- By adding more training samples. In general, improve your training data quality and/or quantity towards getting a more diverse and comprehensive dataset for your task\n",
    "- By tuning the hyperparameters, such as epochs and learning rate multiplier\n",
    "  - To find the optimal number of epochs for your dataset, we recommend experimenting with different values. While increasing epochs can lead to better performance, it's important to be mindful of overfitting, especially with smaller datasets. If you see signs of overfitting, reducing the number of epochs can help mitigate the issue\n",
    "- You may try different prompt structures/formats and opt for the one with better performance"
   ]
  }
 ],
 "metadata": {
  "colab": {
   "name": "sft_gemini_summarization.ipynb",
   "toc_visible": true
  },
  "environment": {
   "kernel": "conda-base-py",
   "name": "workbench-notebooks.m131",
   "type": "gcloud",
   "uri": "us-docker.pkg.dev/deeplearning-platform-release/gcr.io/workbench-notebooks:m131"
  },
  "kernelspec": {
   "display_name": "Python 3 (ipykernel) (Local)",
   "language": "python",
   "name": "conda-base-py"
  },
  "language_info": {
   "codemirror_mode": {
    "name": "ipython",
    "version": 3
   },
   "file_extension": ".py",
   "mimetype": "text/x-python",
   "name": "python",
   "nbconvert_exporter": "python",
   "pygments_lexer": "ipython3",
   "version": "3.10.18"
  }
 },
 "nbformat": 4,
 "nbformat_minor": 4
}
